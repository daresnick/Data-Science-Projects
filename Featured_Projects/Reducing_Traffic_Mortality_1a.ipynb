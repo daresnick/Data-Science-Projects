{
 "cells": [
  {
   "cell_type": "markdown",
   "metadata": {},
   "source": [
    "## Reducing Traffic Mortality in the USA  \n",
    "  \n",
    "### Project through DataCamp and designed by Joel Östblom and Rene Niehus:  \n",
    "  \n",
    "https://www.datacamp.com/projects/462  \n",
    "  \n",
    "Damon Resnick, 11/18/2018"
   ]
  },
  {
   "cell_type": "markdown",
   "metadata": {
    "dc": {
     "key": "3"
    },
    "deletable": false,
    "editable": false,
    "run_control": {
     "frozen": true
    },
    "tags": [
     "context"
    ]
   },
   "source": [
    "## 1. The raw data files and their format\n",
    "<p><img src=\"https://s3.amazonaws.com/assets.datacamp.com/production/project_462/img/car-accident.jpg\" alt=\"\"></p>\n",
    "<p>While the rate of fatal road accidents has been decreasing steadily since the 80s, the past ten years have seen a stagnation in this reduction. Coupled with the increase in number of miles driven in the nation, the total number of traffic related-fatalities has now reached a ten year high and is rapidly increasing.</p>\n",
    "<p>Per request of the US Department of Transportation, we are currently investigating how to derive a strategy to reduce the incidence of road accidents across the nation. By looking at the demographics of traffic accident victims for each US state, we find that there is a lot of variation between states. Now we want to understand if there are patterns in this variation in order to derive suggestions for a policy action plan. In particular, instead of implementing a costly nation-wide plan we want to focus on groups of  states with similar profiles. How can we find such groups in a statistically sound way and communicate the result effectively?</p>\n",
    "<p>To accomplish these tasks, we will make use of data wrangling, plotting, dimensionality reduction, and unsupervised clustering.</p>\n",
    "<p>The data given to us was originally collected by the National Highway Traffic Safety Administration and the National Association of Insurance Commissioners. This particular dataset was compiled and released as a <a href=\"https://github.com/fivethirtyeight/data/tree/master/bad-drivers\">CSV-file</a> by FiveThirtyEight under the <a href=\"https://github.com/ﬁvethirtyeight/data\">CC-BY4.0 license</a>.</p>"
   ]
  },
  {
   "cell_type": "code",
   "execution_count": 1,
   "metadata": {
    "ExecuteTime": {
     "end_time": "2018-11-25T02:28:08.173359Z",
     "start_time": "2018-11-25T02:28:08.031444Z"
    },
    "dc": {
     "key": "3"
    },
    "tags": [
     "sample_code"
    ]
   },
   "outputs": [
    {
     "name": "stdout",
     "output_type": "stream",
     "text": [
      "['miles-driven.csv', 'road-accidents.csv']\n",
      "\n"
     ]
    },
    {
     "data": {
      "text/plain": [
       "['##### LICENSE #####',\n",
       " '# This data set is modified from the original at fivethirtyeight (https://github.com/fivethirtyeight/data/tree/master/bad-drivers)',\n",
       " '# and it is released under CC BY 4.0 (https://creativecommons.org/licenses/by/4.0/)',\n",
       " '##### COLUMN ABBREVIATIONS #####',\n",
       " '# drvr_fatl_col_bmiles = Number of drivers involved in fatal collisions per billion miles (2011)',\n",
       " '# perc_fatl_speed = Percentage Of Drivers Involved In Fatal Collisions Who Were Speeding (2009)',\n",
       " '# perc_fatl_alcohol = Percentage Of Drivers Involved In Fatal Collisions Who Were Alcohol-Impaired (2011)',\n",
       " '# perc_fatl_1st_time = Percentage Of Drivers Involved In Fatal Collisions Who Had Not Been Involved In Any Previous Accidents (2011)',\n",
       " '##### DATA BEGIN #####',\n",
       " 'state|drvr_fatl_col_bmiles|perc_fatl_speed|perc_fatl_alcohol|perc_fatl_1st_time',\n",
       " 'Alabama|18.8|39|30|80',\n",
       " 'Alaska|18.1|41|25|94',\n",
       " 'Arizona|18.6|35|28|96',\n",
       " 'Arkansas|22.4|18|26|95',\n",
       " 'California|12|35|28|89',\n",
       " 'Colorado|13.6|37|28|95',\n",
       " 'Connecticut|10.8|46|36|82',\n",
       " 'Delaware|16.2|38|30|99',\n",
       " 'District of Columbia|5.9|34|27|100',\n",
       " 'Florida|17.9|21|29|94']"
      ]
     },
     "execution_count": 1,
     "metadata": {},
     "output_type": "execute_result"
    }
   ],
   "source": [
    "# # Check the name of the current folder in Windows. Use '!' to run from the jupyter notebook cell.\n",
    "# current_dir = !cd\n",
    "# print(current_dir)\n",
    "# print(\"\")\n",
    "\n",
    "# # List all files in this folder\n",
    "# file_list = !ls\n",
    "# print(file_list)\n",
    "# print(\"\")\n",
    "\n",
    "# List all files in the datasets directory\n",
    "dataset_list = !ls datasets\n",
    "print(dataset_list)\n",
    "print(\"\")\n",
    "\n",
    "# View the first 20 lines of datasets/road-accidents.csv\n",
    "accidents_head = !head -n 20 datasets/road-accidents.csv\n",
    "accidents_head"
   ]
  },
  {
   "cell_type": "markdown",
   "metadata": {},
   "source": [
    "So we have 4 columns of data as described above with index being the state.  \n",
    "  \n",
    "drvr_fatl_col_bmiles: Number of drivers involved in fatal collisions per billion miles (2011)  \n",
    " \n",
    "perc_fatl_speed: Percentage Of Drivers Involved In Fatal Collisions Who Were Speeding (2009)  \n",
    "\n",
    "perc_fatl_alcohol: Percentage Of Drivers Involved In Fatal Collisions Who Were Alcohol-Impaired (2011)  \n",
    "\n",
    "perc_fatl_1st_time: Percentage Of Drivers Involved In Fatal Collisions Who Had Not Been Involved In Any Previous Accidents  "
   ]
  },
  {
   "cell_type": "markdown",
   "metadata": {
    "dc": {
     "key": "10"
    },
    "deletable": false,
    "run_control": {
     "frozen": true
    },
    "tags": [
     "context"
    ]
   },
   "source": [
    "## 2. Read in and get an overview of the data\n",
    "<p>Next, we will orient ourselves to get to know the data with which we are dealing.</p>"
   ]
  },
  {
   "cell_type": "code",
   "execution_count": 2,
   "metadata": {
    "ExecuteTime": {
     "end_time": "2018-11-25T02:28:18.931194Z",
     "start_time": "2018-11-25T02:28:08.178354Z"
    }
   },
   "outputs": [
    {
     "data": {
      "text/plain": [
       "RendererRegistry.enable('notebook')"
      ]
     },
     "execution_count": 2,
     "metadata": {},
     "output_type": "execute_result"
    }
   ],
   "source": [
    "# All the packages and subpackages used:\n",
    "\n",
    "# Pandas is a standard python data wrangling library\n",
    "import pandas as pd\n",
    "\n",
    "# Used in part 3.\n",
    "# Import seaborn for dataviz and make plots appear inline\n",
    "import matplotlib.pyplot as plt\n",
    "import seaborn as sns\n",
    "%matplotlib inline\n",
    "\n",
    "# Used in part 5.\n",
    "# Import the linear model function from sklearn\n",
    "from sklearn import linear_model\n",
    "\n",
    "# Used in part 6\n",
    "# Import StandardScaller from sklearn to standardize and center the feature columns\n",
    "from sklearn.preprocessing import StandardScaler\n",
    "\n",
    "# Import the PCA class function from sklearn to run PCA on standardized data\n",
    "from sklearn.decomposition import PCA\n",
    "\n",
    "# Import matplotlib for dataviz\n",
    "import matplotlib.pyplot as plt\n",
    "\n",
    "# Import numpy to use the round function\n",
    "from numpy import round\n",
    "\n",
    "# Used in part 8\n",
    "# Import KMeans from sklearn to run clustering on preprocessed data\n",
    "from sklearn.cluster import KMeans\n",
    "\n",
    "#Used in part 9\n",
    "#Try Bokeh for interactive dataviz.\n",
    "import bokeh\n",
    "from bokeh.plotting import figure, output_file, show\n",
    "from bokeh.models import Legend\n",
    "from bokeh.io import output_notebook\n",
    "\n",
    "# Try Altair\n",
    "import altair as alt\n",
    "alt.renderers.enable('notebook')"
   ]
  },
  {
   "cell_type": "code",
   "execution_count": 3,
   "metadata": {
    "ExecuteTime": {
     "end_time": "2018-11-25T02:28:18.984158Z",
     "start_time": "2018-11-25T02:28:18.933191Z"
    },
    "dc": {
     "key": "10"
    },
    "tags": [
     "sample_code"
    ]
   },
   "outputs": [
    {
     "name": "stdout",
     "output_type": "stream",
     "text": [
      "There are 51 rows and 5 columns.\n",
      "\n",
      "<class 'pandas.core.frame.DataFrame'>\n",
      "RangeIndex: 51 entries, 0 to 50\n",
      "Data columns (total 5 columns):\n",
      "state                   51 non-null object\n",
      "drvr_fatl_col_bmiles    51 non-null float64\n",
      "perc_fatl_speed         51 non-null int64\n",
      "perc_fatl_alcohol       51 non-null int64\n",
      "perc_fatl_1st_time      51 non-null int64\n",
      "dtypes: float64(1), int64(3), object(1)\n",
      "memory usage: 2.1+ KB\n",
      "None\n"
     ]
    },
    {
     "data": {
      "text/html": [
       "<div>\n",
       "<style scoped>\n",
       "    .dataframe tbody tr th:only-of-type {\n",
       "        vertical-align: middle;\n",
       "    }\n",
       "\n",
       "    .dataframe tbody tr th {\n",
       "        vertical-align: top;\n",
       "    }\n",
       "\n",
       "    .dataframe thead th {\n",
       "        text-align: right;\n",
       "    }\n",
       "</style>\n",
       "<table border=\"1\" class=\"dataframe\">\n",
       "  <thead>\n",
       "    <tr style=\"text-align: right;\">\n",
       "      <th></th>\n",
       "      <th>state</th>\n",
       "      <th>drvr_fatl_col_bmiles</th>\n",
       "      <th>perc_fatl_speed</th>\n",
       "      <th>perc_fatl_alcohol</th>\n",
       "      <th>perc_fatl_1st_time</th>\n",
       "    </tr>\n",
       "  </thead>\n",
       "  <tbody>\n",
       "    <tr>\n",
       "      <th>46</th>\n",
       "      <td>Virginia</td>\n",
       "      <td>12.7</td>\n",
       "      <td>19</td>\n",
       "      <td>27</td>\n",
       "      <td>88</td>\n",
       "    </tr>\n",
       "    <tr>\n",
       "      <th>47</th>\n",
       "      <td>Washington</td>\n",
       "      <td>10.6</td>\n",
       "      <td>42</td>\n",
       "      <td>33</td>\n",
       "      <td>86</td>\n",
       "    </tr>\n",
       "    <tr>\n",
       "      <th>48</th>\n",
       "      <td>West Virginia</td>\n",
       "      <td>23.8</td>\n",
       "      <td>34</td>\n",
       "      <td>28</td>\n",
       "      <td>87</td>\n",
       "    </tr>\n",
       "    <tr>\n",
       "      <th>49</th>\n",
       "      <td>Wisconsin</td>\n",
       "      <td>13.8</td>\n",
       "      <td>36</td>\n",
       "      <td>33</td>\n",
       "      <td>84</td>\n",
       "    </tr>\n",
       "    <tr>\n",
       "      <th>50</th>\n",
       "      <td>Wyoming</td>\n",
       "      <td>17.4</td>\n",
       "      <td>42</td>\n",
       "      <td>32</td>\n",
       "      <td>90</td>\n",
       "    </tr>\n",
       "  </tbody>\n",
       "</table>\n",
       "</div>"
      ],
      "text/plain": [
       "            state  drvr_fatl_col_bmiles  perc_fatl_speed  perc_fatl_alcohol  \\\n",
       "46       Virginia                  12.7               19                 27   \n",
       "47     Washington                  10.6               42                 33   \n",
       "48  West Virginia                  23.8               34                 28   \n",
       "49      Wisconsin                  13.8               36                 33   \n",
       "50        Wyoming                  17.4               42                 32   \n",
       "\n",
       "    perc_fatl_1st_time  \n",
       "46                  88  \n",
       "47                  86  \n",
       "48                  87  \n",
       "49                  84  \n",
       "50                  90  "
      ]
     },
     "execution_count": 3,
     "metadata": {},
     "output_type": "execute_result"
    }
   ],
   "source": [
    "# Read in dataset 'road-accidents.csv'\n",
    "car_acc = pd.read_csv('datasets/road-accidents.csv', sep='|', comment='#')\n",
    "\n",
    "# Save the number of rows columns as a tuple\n",
    "rows_and_cols = car_acc.shape\n",
    "print('There are {} rows and {} columns.\\n'.format(\n",
    "    rows_and_cols[0], rows_and_cols[1]))\n",
    "\n",
    "# Generate an overview of the DataFrame\n",
    "car_acc_information = car_acc.info()\n",
    "print(car_acc_information)\n",
    "\n",
    "# Display the last five rows of the DataFrame\n",
    "car_acc.tail()"
   ]
  },
  {
   "cell_type": "markdown",
   "metadata": {
    "dc": {
     "key": "17"
    },
    "deletable": false,
    "run_control": {
     "frozen": true
    },
    "tags": [
     "context"
    ]
   },
   "source": [
    "## 3. Create a textual and a graphical summary of the data\n",
    "<p>We now have an idea of what the dataset looks like. To further familiarize ourselves with this data, we will calculate summary statistics and produce a graphical overview of the data. The graphical overview is good to get a sense for the distribution of variables within the data and could consist of one histogram per column. It is often a good idea to also explore the pairwise relationship between all columns in the data set by using a using pairwise scatter plots (sometimes referred to as a \"scatterplot matrix\").</p>"
   ]
  },
  {
   "cell_type": "code",
   "execution_count": 4,
   "metadata": {
    "ExecuteTime": {
     "end_time": "2018-11-25T02:28:19.042125Z",
     "start_time": "2018-11-25T02:28:18.993154Z"
    }
   },
   "outputs": [
    {
     "data": {
      "text/html": [
       "<div>\n",
       "<style scoped>\n",
       "    .dataframe tbody tr th:only-of-type {\n",
       "        vertical-align: middle;\n",
       "    }\n",
       "\n",
       "    .dataframe tbody tr th {\n",
       "        vertical-align: top;\n",
       "    }\n",
       "\n",
       "    .dataframe thead th {\n",
       "        text-align: right;\n",
       "    }\n",
       "</style>\n",
       "<table border=\"1\" class=\"dataframe\">\n",
       "  <thead>\n",
       "    <tr style=\"text-align: right;\">\n",
       "      <th></th>\n",
       "      <th>drvr_fatl_col_bmiles</th>\n",
       "      <th>perc_fatl_speed</th>\n",
       "      <th>perc_fatl_alcohol</th>\n",
       "      <th>perc_fatl_1st_time</th>\n",
       "    </tr>\n",
       "  </thead>\n",
       "  <tbody>\n",
       "    <tr>\n",
       "      <th>count</th>\n",
       "      <td>51.000000</td>\n",
       "      <td>51.000000</td>\n",
       "      <td>51.000000</td>\n",
       "      <td>51.00000</td>\n",
       "    </tr>\n",
       "    <tr>\n",
       "      <th>mean</th>\n",
       "      <td>15.790196</td>\n",
       "      <td>31.725490</td>\n",
       "      <td>30.686275</td>\n",
       "      <td>88.72549</td>\n",
       "    </tr>\n",
       "    <tr>\n",
       "      <th>std</th>\n",
       "      <td>4.122002</td>\n",
       "      <td>9.633438</td>\n",
       "      <td>5.132213</td>\n",
       "      <td>6.96011</td>\n",
       "    </tr>\n",
       "    <tr>\n",
       "      <th>min</th>\n",
       "      <td>5.900000</td>\n",
       "      <td>13.000000</td>\n",
       "      <td>16.000000</td>\n",
       "      <td>76.00000</td>\n",
       "    </tr>\n",
       "    <tr>\n",
       "      <th>25%</th>\n",
       "      <td>12.750000</td>\n",
       "      <td>23.000000</td>\n",
       "      <td>28.000000</td>\n",
       "      <td>83.50000</td>\n",
       "    </tr>\n",
       "    <tr>\n",
       "      <th>50%</th>\n",
       "      <td>15.600000</td>\n",
       "      <td>34.000000</td>\n",
       "      <td>30.000000</td>\n",
       "      <td>88.00000</td>\n",
       "    </tr>\n",
       "    <tr>\n",
       "      <th>75%</th>\n",
       "      <td>18.500000</td>\n",
       "      <td>38.000000</td>\n",
       "      <td>33.000000</td>\n",
       "      <td>95.00000</td>\n",
       "    </tr>\n",
       "    <tr>\n",
       "      <th>max</th>\n",
       "      <td>23.900000</td>\n",
       "      <td>54.000000</td>\n",
       "      <td>44.000000</td>\n",
       "      <td>100.00000</td>\n",
       "    </tr>\n",
       "  </tbody>\n",
       "</table>\n",
       "</div>"
      ],
      "text/plain": [
       "       drvr_fatl_col_bmiles  perc_fatl_speed  perc_fatl_alcohol  \\\n",
       "count             51.000000        51.000000          51.000000   \n",
       "mean              15.790196        31.725490          30.686275   \n",
       "std                4.122002         9.633438           5.132213   \n",
       "min                5.900000        13.000000          16.000000   \n",
       "25%               12.750000        23.000000          28.000000   \n",
       "50%               15.600000        34.000000          30.000000   \n",
       "75%               18.500000        38.000000          33.000000   \n",
       "max               23.900000        54.000000          44.000000   \n",
       "\n",
       "       perc_fatl_1st_time  \n",
       "count            51.00000  \n",
       "mean             88.72549  \n",
       "std               6.96011  \n",
       "min              76.00000  \n",
       "25%              83.50000  \n",
       "50%              88.00000  \n",
       "75%              95.00000  \n",
       "max             100.00000  "
      ]
     },
     "execution_count": 4,
     "metadata": {},
     "output_type": "execute_result"
    }
   ],
   "source": [
    "# Compute the summary statistics of all columns in the 'car_acc' DataFrame\n",
    "sum_stat_car = car_acc.describe()\n",
    "sum_stat_car"
   ]
  },
  {
   "cell_type": "code",
   "execution_count": 5,
   "metadata": {
    "ExecuteTime": {
     "end_time": "2018-11-25T02:28:22.801248Z",
     "start_time": "2018-11-25T02:28:19.047121Z"
    },
    "dc": {
     "key": "17"
    },
    "tags": [
     "sample_code"
    ]
   },
   "outputs": [
    {
     "name": "stderr",
     "output_type": "stream",
     "text": [
      "C:\\Users\\hp\\Anaconda3\\lib\\site-packages\\scipy\\stats\\stats.py:1713: FutureWarning: Using a non-tuple sequence for multidimensional indexing is deprecated; use `arr[tuple(seq)]` instead of `arr[seq]`. In the future this will be interpreted as an array index, `arr[np.array(seq)]`, which will result either in an error or a different result.\n",
      "  return np.add.reduce(sorted[indexer] * weights, axis=axis) / sumval\n"
     ]
    },
    {
     "data": {
      "text/plain": [
       "<seaborn.axisgrid.PairGrid at 0x2625a726908>"
      ]
     },
     "execution_count": 5,
     "metadata": {},
     "output_type": "execute_result"
    },
    {
     "data": {
      "image/png": "[encoded data removed]",
      "text/plain": [
       "<Figure size 720x720 with 20 Axes>"
      ]
     },
     "metadata": {
      "needs_background": "light"
     },
     "output_type": "display_data"
    }
   ],
   "source": [
    "# Create a pairwise scatter plot to explore the data\n",
    "sns.pairplot(car_acc, kind='reg', diag_kind='hist')"
   ]
  },
  {
   "cell_type": "markdown",
   "metadata": {
    "dc": {
     "key": "24"
    },
    "deletable": false,
    "run_control": {
     "frozen": true
    },
    "tags": [
     "context"
    ]
   },
   "source": [
    "## 4. Quantify the association of features and accidents\n",
    "<p>We can already see some potentially interesting relationships between the target variable (the number of fatal accidents) and the feature variables (the remaining three columns).</p>\n",
    "<p>To quantify the pairwise relationships that we observed in the scatter plots, we can compute the Pearson correlation coefficient matrix. The Pearson correlation coefficient is one of the most common methods to quantify correlation between variables, and by convention, the following thresholds are usually used:</p>\n",
    "<ul>\n",
    "<li>0.2 = weak</li>\n",
    "<li>0.5 = medium</li>\n",
    "<li>0.8 = strong</li>\n",
    "<li>0.9 = very strong</li>\n",
    "</ul>"
   ]
  },
  {
   "cell_type": "code",
   "execution_count": 6,
   "metadata": {
    "ExecuteTime": {
     "end_time": "2018-11-25T02:28:22.819235Z",
     "start_time": "2018-11-25T02:28:22.803245Z"
    },
    "dc": {
     "key": "24"
    },
    "tags": [
     "sample_code"
    ]
   },
   "outputs": [
    {
     "data": {
      "text/html": [
       "<div>\n",
       "<style scoped>\n",
       "    .dataframe tbody tr th:only-of-type {\n",
       "        vertical-align: middle;\n",
       "    }\n",
       "\n",
       "    .dataframe tbody tr th {\n",
       "        vertical-align: top;\n",
       "    }\n",
       "\n",
       "    .dataframe thead th {\n",
       "        text-align: right;\n",
       "    }\n",
       "</style>\n",
       "<table border=\"1\" class=\"dataframe\">\n",
       "  <thead>\n",
       "    <tr style=\"text-align: right;\">\n",
       "      <th></th>\n",
       "      <th>drvr_fatl_col_bmiles</th>\n",
       "      <th>perc_fatl_speed</th>\n",
       "      <th>perc_fatl_alcohol</th>\n",
       "      <th>perc_fatl_1st_time</th>\n",
       "    </tr>\n",
       "  </thead>\n",
       "  <tbody>\n",
       "    <tr>\n",
       "      <th>drvr_fatl_col_bmiles</th>\n",
       "      <td>1.000000</td>\n",
       "      <td>-0.029080</td>\n",
       "      <td>0.199426</td>\n",
       "      <td>-0.017942</td>\n",
       "    </tr>\n",
       "    <tr>\n",
       "      <th>perc_fatl_speed</th>\n",
       "      <td>-0.029080</td>\n",
       "      <td>1.000000</td>\n",
       "      <td>0.286244</td>\n",
       "      <td>0.014066</td>\n",
       "    </tr>\n",
       "    <tr>\n",
       "      <th>perc_fatl_alcohol</th>\n",
       "      <td>0.199426</td>\n",
       "      <td>0.286244</td>\n",
       "      <td>1.000000</td>\n",
       "      <td>-0.245455</td>\n",
       "    </tr>\n",
       "    <tr>\n",
       "      <th>perc_fatl_1st_time</th>\n",
       "      <td>-0.017942</td>\n",
       "      <td>0.014066</td>\n",
       "      <td>-0.245455</td>\n",
       "      <td>1.000000</td>\n",
       "    </tr>\n",
       "  </tbody>\n",
       "</table>\n",
       "</div>"
      ],
      "text/plain": [
       "                      drvr_fatl_col_bmiles  perc_fatl_speed  \\\n",
       "drvr_fatl_col_bmiles              1.000000        -0.029080   \n",
       "perc_fatl_speed                  -0.029080         1.000000   \n",
       "perc_fatl_alcohol                 0.199426         0.286244   \n",
       "perc_fatl_1st_time               -0.017942         0.014066   \n",
       "\n",
       "                      perc_fatl_alcohol  perc_fatl_1st_time  \n",
       "drvr_fatl_col_bmiles           0.199426           -0.017942  \n",
       "perc_fatl_speed                0.286244            0.014066  \n",
       "perc_fatl_alcohol              1.000000           -0.245455  \n",
       "perc_fatl_1st_time            -0.245455            1.000000  "
      ]
     },
     "execution_count": 6,
     "metadata": {},
     "output_type": "execute_result"
    }
   ],
   "source": [
    "# Compute the correlation coefficent for all column pairs\n",
    "corr_columns = car_acc.corr()\n",
    "corr_columns"
   ]
  },
  {
   "cell_type": "markdown",
   "metadata": {
    "dc": {
     "key": "31"
    },
    "deletable": false,
    "editable": false,
    "run_control": {
     "frozen": true
    },
    "tags": [
     "context"
    ]
   },
   "source": [
    "## 5. Fit a multivariate linear regression\n",
    "<p>From the correlation table, we see that the amount of fatal accidents is most strongly correlated with alcohol consumption (first row). But in addition, we also see that some of the features are correlated with each other, for instance, speeding and alcohol consumption are positively correlated. We, therefore, want to compute the association of the target with each feature while adjusting for the effect of the remaining features. This can be done using multivariate linear regression.</p>\n",
    "<p>Both the multivariate regression and the correlation measure how strongly the features are associated with the outcome (fatal accidents). When comparing the regression coefficients with the correlation coefficients, we will see that they are slightly different. The reason for this is that the multiple regression computes the association of a feature with an outcome, given the association with all other features, which is not accounted for when calculating the correlation coefficients.</p>\n",
    "<p>A particularly interesting case is when the correlation coefficient and the regression coefficient of the same feature have opposite signs. How can this be? For example, when a feature A is positively correlated with the outcome Y but also positively correlated with a different feature B that has a negative effect on Y, then the indirect correlation (A-&gt;B-&gt;Y) can overwhelm the direct correlation (A-&gt;Y). In such a case, the regression coefficient of feature A could be positive, while the correlation coefficient is negative. This is sometimes called a <em>masking</em> relationship. Let’s see if the multivariate regression can reveal such a phenomenon.</p>"
   ]
  },
  {
   "cell_type": "code",
   "execution_count": 7,
   "metadata": {
    "ExecuteTime": {
     "end_time": "2018-11-25T02:28:22.844219Z",
     "start_time": "2018-11-25T02:28:22.824232Z"
    }
   },
   "outputs": [
    {
     "data": {
      "text/plain": [
       "array([-0.04180041,  0.19086404,  0.02473301])"
      ]
     },
     "execution_count": 7,
     "metadata": {},
     "output_type": "execute_result"
    }
   ],
   "source": [
    "# Create the features and target DataFrames\n",
    "features = car_acc[['perc_fatl_speed', 'perc_fatl_alcohol', 'perc_fatl_1st_time']]\n",
    "target = car_acc['drvr_fatl_col_bmiles']\n",
    "\n",
    "# Import the linear model function from sklearn\n",
    "from sklearn import linear_model\n",
    "\n",
    "# Create a linear regression object\n",
    "reg = linear_model.LinearRegression()\n",
    "\n",
    "# Fit a multivariate linear regression model\n",
    "reg.fit(X=features, y=target)\n",
    "\n",
    "# Retrieve the regression coefficients\n",
    "fit_coef = reg.coef_\n",
    "fit_coef"
   ]
  },
  {
   "cell_type": "markdown",
   "metadata": {},
   "source": [
    "The middle number is the coefficient associated with alcohol consumption. This is clearly the strongest. However that feature does correlate strongly with the other features. More analysis is probably required."
   ]
  },
  {
   "cell_type": "markdown",
   "metadata": {
    "dc": {
     "key": "38"
    },
    "deletable": false,
    "editable": false,
    "run_control": {
     "frozen": true
    },
    "tags": [
     "context"
    ]
   },
   "source": [
    "## 6. Perform PCA on standardized data\n",
    "<p>We have learned that alcohol consumption is weakly associated with the number of fatal accidents across states. This could lead us to conclude that alcohol consumption should be a focus for further investigations and maybe strategies should divide states into high versus low alcohol consumption in accidents. But there are also associations between  alcohol consumptions and the other two features, so it might be worth trying to split the states in a way that accounts for all three features.</p>\n",
    "<p>One way of clustering the data is to use PCA to visualize data in reduced dimensional space where we can try to pick up patterns by eye. PCA uses the absolute variance to calculate the overall variance explained for each principal component, so it is important that the features are on a similar scale (unless we would have a particular reason that one feature should be weighted more).</p>\n",
    "<p>We'll use the appropriate scaling function to standardize the features to be centered with mean 0 and scaled with standard deviation 1.</p>"
   ]
  },
  {
   "cell_type": "code",
   "execution_count": 8,
   "metadata": {
    "ExecuteTime": {
     "end_time": "2018-11-25T02:28:23.058195Z",
     "start_time": "2018-11-25T02:28:22.847220Z"
    },
    "dc": {
     "key": "38"
    },
    "tags": [
     "sample_code"
    ]
   },
   "outputs": [
    {
     "name": "stderr",
     "output_type": "stream",
     "text": [
      "C:\\Users\\hp\\Anaconda3\\lib\\site-packages\\sklearn\\preprocessing\\data.py:617: DataConversionWarning: Data with input dtype int64 were all converted to float64 by StandardScaler.\n",
      "  return self.partial_fit(X, y)\n",
      "C:\\Users\\hp\\Anaconda3\\lib\\site-packages\\sklearn\\base.py:462: DataConversionWarning: Data with input dtype int64 were all converted to float64 by StandardScaler.\n",
      "  return self.fit(X, **fit_params).transform(X)\n"
     ]
    },
    {
     "data": {
      "image/png": "[encoded data removed]",
      "text/plain": [
       "<Figure size 576x432 with 1 Axes>"
      ]
     },
     "metadata": {
      "needs_background": "light"
     },
     "output_type": "display_data"
    },
    {
     "name": "stdout",
     "output_type": "stream",
     "text": [
      "The cumulative variance explained by the first two principal components is 0.7947\n"
     ]
    }
   ],
   "source": [
    "# Import StandardScaller from sklearn to standardize and center the feature columns\n",
    "from sklearn.preprocessing import StandardScaler\n",
    "scaler = StandardScaler()\n",
    "features_scaled = scaler.fit_transform(features)\n",
    "\n",
    "# Import the PCA class function from sklearn to run PCA on standardized data\n",
    "from sklearn.decomposition import PCA\n",
    "pca = PCA()\n",
    "\n",
    "# Fit the standardized data to the pca object\n",
    "pca.fit(features_scaled)\n",
    "\n",
    "# Plot the proportion of variance explained on the y-axis of the bar plot\n",
    "import matplotlib.pyplot as plt\n",
    "\n",
    "plt.figure(figsize=(8, 6))\n",
    "plt.bar(range(1, pca.n_components_ + 1),  pca.explained_variance_ratio_)\n",
    "plt.xlabel('Principal component #', size=15)\n",
    "plt.ylabel('Proportion of variance explained', size=15)\n",
    "plt.xticks([1, 2, 3])\n",
    "plt.show()\n",
    "\n",
    "from numpy import round\n",
    "# Compute the cumulative proportion of variance explained by the first two principal components\n",
    "two_first_comp_var_exp = pca.explained_variance_ratio_.cumsum()[1]\n",
    "print(\"The cumulative variance explained by the first two principal components is {}\".format(round(two_first_comp_var_exp, 5)))"
   ]
  },
  {
   "cell_type": "markdown",
   "metadata": {
    "dc": {
     "key": "45"
    },
    "deletable": false,
    "editable": false,
    "run_control": {
     "frozen": true
    },
    "tags": [
     "context"
    ]
   },
   "source": [
    "## 7. Visualize the first two principal components\n",
    "<p>The first two principal components enable visualization of the data in two dimensions while capturing a high proportion of the variation (79%) from all three features: speeding, alcohol influence, and first-time accidents. This enables us to use our eyes to try to discern patterns in the data with the goal to find groups of similar states. Although clustering algorithms are becoming increasingly efficient, human pattern recognition is an easily accessible and very efficient method of assessing patterns in data.</p>\n",
    "<p>We will create a scatter plot of the first principle components and explore how the states cluster together in this visualization.</p>"
   ]
  },
  {
   "cell_type": "code",
   "execution_count": 9,
   "metadata": {
    "ExecuteTime": {
     "end_time": "2018-11-25T02:28:23.289053Z",
     "start_time": "2018-11-25T02:28:23.060191Z"
    }
   },
   "outputs": [
    {
     "data": {
      "image/png": "[encoded data removed]",
      "text/plain": [
       "<Figure size 576x432 with 1 Axes>"
      ]
     },
     "metadata": {
      "needs_background": "light"
     },
     "output_type": "display_data"
    }
   ],
   "source": [
    "# PCA transform the scaled features computing only the first two principal components\n",
    "pca = PCA(n_components=2)\n",
    "p_comps = pca.fit_transform(features_scaled)\n",
    "\n",
    "# Extract the first and second component to use for the scatter plot\n",
    "p_comp1 = p_comps[:, 0]\n",
    "p_comp2 = p_comps[:, 1]\n",
    "\n",
    "# Plot the first two principal components in a scatter plot\n",
    "plt.figure(figsize=(8, 6))\n",
    "plt.scatter(p_comp1, p_comp2)\n",
    "plt.show()"
   ]
  },
  {
   "cell_type": "markdown",
   "metadata": {
    "dc": {
     "key": "52"
    },
    "deletable": false,
    "run_control": {
     "frozen": true
    },
    "tags": [
     "context"
    ]
   },
   "source": [
    "## 8. Find clusters of similar states in the data\n",
    "<p>It is not entirely clear from the PCA scatter plot how many groups into which the states cluster. To assist with identifying a reasonable number of clusters, we can use KMeans clustering by creating a scree plot and looking for the \"elbow\", which is an indication of when the addition of more clusters do not add much more explanatory power.</p>"
   ]
  },
  {
   "cell_type": "code",
   "execution_count": 10,
   "metadata": {
    "ExecuteTime": {
     "end_time": "2018-11-25T02:28:23.737779Z",
     "start_time": "2018-11-25T02:28:23.291053Z"
    },
    "dc": {
     "key": "52"
    },
    "scrolled": false,
    "tags": [
     "sample_code"
    ]
   },
   "outputs": [
    {
     "data": {
      "image/png": "[encoded data removed]",
      "text/plain": [
       "<Figure size 576x432 with 1 Axes>"
      ]
     },
     "metadata": {
      "needs_background": "light"
     },
     "output_type": "display_data"
    }
   ],
   "source": [
    "# Import KMeans from sklearn\n",
    "from sklearn.cluster import KMeans\n",
    "\n",
    "# A loop will be used to plot the explanatory power for up to 10 KMeans clusters\n",
    "ks = range(1, 11)\n",
    "inertias = []\n",
    "for k in ks:\n",
    "    # Initialize the KMeans object using the current number of clusters (k)\n",
    "    km = KMeans(n_clusters=k, random_state=8)\n",
    "    # Fit the scaled features to the KMeans object\n",
    "    km.fit(features_scaled)\n",
    "    # Append the inertia for 'km' to the list of inertias\n",
    "    inertias.append(km.inertia_)\n",
    "    \n",
    "# Plot the results in a line plot\n",
    "plt.figure(figsize=(8, 6))\n",
    "plt.plot(ks, inertias, marker='o')\n",
    "plt.show()"
   ]
  },
  {
   "cell_type": "markdown",
   "metadata": {
    "dc": {
     "key": "59"
    },
    "deletable": false,
    "editable": false,
    "run_control": {
     "frozen": true
    },
    "tags": [
     "context"
    ]
   },
   "source": [
    "## 9. KMeans to visualize clusters in the PCA scatter plot\n",
    "<p>Since there wasn't a clear elbow in the scree plot, assigning the states to either two or three clusters is a reasonable choice, and we will resume our analysis using three clusters. Let's see how the PCA scatter plot looks if we color the states according to the cluster to which they are assigned.</p>"
   ]
  },
  {
   "cell_type": "code",
   "execution_count": 11,
   "metadata": {
    "ExecuteTime": {
     "end_time": "2018-11-25T02:28:23.990623Z",
     "start_time": "2018-11-25T02:28:23.741776Z"
    },
    "dc": {
     "key": "59"
    },
    "tags": [
     "sample_code"
    ]
   },
   "outputs": [
    {
     "data": {
      "image/png": "[encoded data removed]",
      "text/plain": [
       "<Figure size 576x432 with 1 Axes>"
      ]
     },
     "metadata": {
      "needs_background": "light"
     },
     "output_type": "display_data"
    }
   ],
   "source": [
    "# Create a KMeans object with 3 clusters, using random_state=8 \n",
    "km = KMeans(n_clusters=3, random_state=8)\n",
    "\n",
    "# Fit the preprocessed data to the 'km' object\n",
    "km.fit(features_scaled)\n",
    "\n",
    "# Create the colors list to label each cluster with a different color using km.labels_\n",
    "colors=[]\n",
    "for x in km.labels_:\n",
    "    if x == 0:\n",
    "        colors.append('blue')\n",
    "    elif x == 1:\n",
    "        colors.append('darkorange')   \n",
    "    else:\n",
    "        colors.append('green')\n",
    "\n",
    "# Create a new df with the 2 pcs, cluster labels, and colors as columns.\n",
    "new = pd.DataFrame({'p_comp1':p_comp1, 'p_comp2':p_comp2,'clusters':km.labels_ + 1, 'colors':colors})\n",
    "\n",
    "# Scatter plot of the first two principal components colored according to the KMeans cluster assignment\n",
    "plt.figure(figsize=(8, 6))\n",
    "plt.scatter(new['p_comp1'][new['clusters']==1], new['p_comp2'][new['clusters']==1], c=new['colors'][new['clusters']==1], s=50)\n",
    "plt.scatter(new['p_comp1'][new['clusters']==2], new['p_comp2'][new['clusters']==2], c=new['colors'][new['clusters']==2], s=50)\n",
    "plt.scatter(new['p_comp1'][new['clusters']==3], new['p_comp2'][new['clusters']==3], c=new['colors'][new['clusters']==3], s=50)\n",
    "plt.legend(('Cluster 1', 'Cluster 2', 'Cluster 3'))\n",
    "plt.show()"
   ]
  },
  {
   "cell_type": "code",
   "execution_count": 12,
   "metadata": {
    "ExecuteTime": {
     "end_time": "2018-11-25T02:28:24.163518Z",
     "start_time": "2018-11-25T02:28:23.992622Z"
    }
   },
   "outputs": [
    {
     "data": {
      "text/html": [
       "\n",
       "    <div class=\"bk-root\">\n",
       "        <a href=\"https://bokeh.pydata.org\" target=\"_blank\" class=\"bk-logo bk-logo-small bk-logo-notebook\"></a>\n",
       "        <span id=\"1081\">Loading BokehJS ...</span>\n",
       "    </div>"
      ]
     },
     "metadata": {},
     "output_type": "display_data"
    },
    {
     "data": {
      "application/javascript": [
       "\n",
       "(function(root) {\n",
       "  function now() {\n",
       "    return new Date();\n",
       "  }\n",
       "\n",
       "  var force = true;\n",
       "\n",
       "  if (typeof (root._bokeh_onload_callbacks) === \"undefined\" || force === true) {\n",
       "    root._bokeh_onload_callbacks = [];\n",
       "    root._bokeh_is_loading = undefined;\n",
       "  }\n",
       "\n",
       "  var JS_MIME_TYPE = 'application/javascript';\n",
       "  var HTML_MIME_TYPE = 'text/html';\n",
       "  var EXEC_MIME_TYPE = 'application/vnd.bokehjs_exec.v0+json';\n",
       "  var CLASS_NAME = 'output_bokeh rendered_html';\n",
       "\n",
       "  /**\n",
       "   * Render data to the DOM node\n",
       "   */\n",
       "  function render(props, node) {\n",
       "    var script = document.createElement(\"script\");\n",
       "    node.appendChild(script);\n",
       "  }\n",
       "\n",
       "  /**\n",
       "   * Handle when an output is cleared or removed\n",
       "   */\n",
       "  function handleClearOutput(event, handle) {\n",
       "    var cell = handle.cell;\n",
       "\n",
       "    var id = cell.output_area._bokeh_element_id;\n",
       "    var server_id = cell.output_area._bokeh_server_id;\n",
       "    // Clean up Bokeh references\n",
       "    if (id != null && id in Bokeh.index) {\n",
       "      Bokeh.index[id].model.document.clear();\n",
       "      delete Bokeh.index[id];\n",
       "    }\n",
       "\n",
       "    if (server_id !== undefined) {\n",
       "      // Clean up Bokeh references\n",
       "      var cmd = \"from bokeh.io.state import curstate; print(curstate().uuid_to_server['\" + server_id + \"'].get_sessions()[0].document.roots[0]._id)\";\n",
       "      cell.notebook.kernel.execute(cmd, {\n",
       "        iopub: {\n",
       "          output: function(msg) {\n",
       "            var id = msg.content.text.trim();\n",
       "            if (id in Bokeh.index) {\n",
       "              Bokeh.index[id].model.document.clear();\n",
       "              delete Bokeh.index[id];\n",
       "            }\n",
       "          }\n",
       "        }\n",
       "      });\n",
       "      // Destroy server and session\n",
       "      var cmd = \"import bokeh.io.notebook as ion; ion.destroy_server('\" + server_id + \"')\";\n",
       "      cell.notebook.kernel.execute(cmd);\n",
       "    }\n",
       "  }\n",
       "\n",
       "  /**\n",
       "   * Handle when a new output is added\n",
       "   */\n",
       "  function handleAddOutput(event, handle) {\n",
       "    var output_area = handle.output_area;\n",
       "    var output = handle.output;\n",
       "\n",
       "    // limit handleAddOutput to display_data with EXEC_MIME_TYPE content only\n",
       "    if ((output.output_type != \"display_data\") || (!output.data.hasOwnProperty(EXEC_MIME_TYPE))) {\n",
       "      return\n",
       "    }\n",
       "\n",
       "    var toinsert = output_area.element.find(\".\" + CLASS_NAME.split(' ')[0]);\n",
       "\n",
       "    if (output.metadata[EXEC_MIME_TYPE][\"id\"] !== undefined) {\n",
       "      toinsert[toinsert.length - 1].firstChild.textContent = output.data[JS_MIME_TYPE];\n",
       "      // store reference to embed id on output_area\n",
       "      output_area._bokeh_element_id = output.metadata[EXEC_MIME_TYPE][\"id\"];\n",
       "    }\n",
       "    if (output.metadata[EXEC_MIME_TYPE][\"server_id\"] !== undefined) {\n",
       "      var bk_div = document.createElement(\"div\");\n",
       "      bk_div.innerHTML = output.data[HTML_MIME_TYPE];\n",
       "      var script_attrs = bk_div.children[0].attributes;\n",
       "      for (var i = 0; i < script_attrs.length; i++) {\n",
       "        toinsert[toinsert.length - 1].firstChild.setAttribute(script_attrs[i].name, script_attrs[i].value);\n",
       "      }\n",
       "      // store reference to server id on output_area\n",
       "      output_area._bokeh_server_id = output.metadata[EXEC_MIME_TYPE][\"server_id\"];\n",
       "    }\n",
       "  }\n",
       "\n",
       "  function register_renderer(events, OutputArea) {\n",
       "\n",
       "    function append_mime(data, metadata, element) {\n",
       "      // create a DOM node to render to\n",
       "      var toinsert = this.create_output_subarea(\n",
       "        metadata,\n",
       "        CLASS_NAME,\n",
       "        EXEC_MIME_TYPE\n",
       "      );\n",
       "      this.keyboard_manager.register_events(toinsert);\n",
       "      // Render to node\n",
       "      var props = {data: data, metadata: metadata[EXEC_MIME_TYPE]};\n",
       "      render(props, toinsert[toinsert.length - 1]);\n",
       "      element.append(toinsert);\n",
       "      return toinsert\n",
       "    }\n",
       "\n",
       "    /* Handle when an output is cleared or removed */\n",
       "    events.on('clear_output.CodeCell', handleClearOutput);\n",
       "    events.on('delete.Cell', handleClearOutput);\n",
       "\n",
       "    /* Handle when a new output is added */\n",
       "    events.on('output_added.OutputArea', handleAddOutput);\n",
       "\n",
       "    /**\n",
       "     * Register the mime type and append_mime function with output_area\n",
       "     */\n",
       "    OutputArea.prototype.register_mime_type(EXEC_MIME_TYPE, append_mime, {\n",
       "      /* Is output safe? */\n",
       "      safe: true,\n",
       "      /* Index of renderer in `output_area.display_order` */\n",
       "      index: 0\n",
       "    });\n",
       "  }\n",
       "\n",
       "  // register the mime type if in Jupyter Notebook environment and previously unregistered\n",
       "  if (root.Jupyter !== undefined) {\n",
       "    var events = require('base/js/events');\n",
       "    var OutputArea = require('notebook/js/outputarea').OutputArea;\n",
       "\n",
       "    if (OutputArea.prototype.mime_types().indexOf(EXEC_MIME_TYPE) == -1) {\n",
       "      register_renderer(events, OutputArea);\n",
       "    }\n",
       "  }\n",
       "\n",
       "  \n",
       "  if (typeof (root._bokeh_timeout) === \"undefined\" || force === true) {\n",
       "    root._bokeh_timeout = Date.now() + 5000;\n",
       "    root._bokeh_failed_load = false;\n",
       "  }\n",
       "\n",
       "  var NB_LOAD_WARNING = {'data': {'text/html':\n",
       "     \"<div style='background-color: #fdd'>\\n\"+\n",
       "     \"<p>\\n\"+\n",
       "     \"BokehJS does not appear to have successfully loaded. If loading BokehJS from CDN, this \\n\"+\n",
       "     \"may be due to a slow or bad network connection. Possible fixes:\\n\"+\n",
       "     \"</p>\\n\"+\n",
       "     \"<ul>\\n\"+\n",
       "     \"<li>re-rerun `output_notebook()` to attempt to load from CDN again, or</li>\\n\"+\n",
       "     \"<li>use INLINE resources instead, as so:</li>\\n\"+\n",
       "     \"</ul>\\n\"+\n",
       "     \"<code>\\n\"+\n",
       "     \"from bokeh.resources import INLINE\\n\"+\n",
       "     \"output_notebook(resources=INLINE)\\n\"+\n",
       "     \"</code>\\n\"+\n",
       "     \"</div>\"}};\n",
       "\n",
       "  function display_loaded() {\n",
       "    var el = document.getElementById(\"1081\");\n",
       "    if (el != null) {\n",
       "      el.textContent = \"BokehJS is loading...\";\n",
       "    }\n",
       "    if (root.Bokeh !== undefined) {\n",
       "      if (el != null) {\n",
       "        el.textContent = \"BokehJS \" + root.Bokeh.version + \" successfully loaded.\";\n",
       "      }\n",
       "    } else if (Date.now() < root._bokeh_timeout) {\n",
       "      setTimeout(display_loaded, 100)\n",
       "    }\n",
       "  }\n",
       "\n",
       "\n",
       "  function run_callbacks() {\n",
       "    try {\n",
       "      root._bokeh_onload_callbacks.forEach(function(callback) { callback() });\n",
       "    }\n",
       "    finally {\n",
       "      delete root._bokeh_onload_callbacks\n",
       "    }\n",
       "    console.info(\"Bokeh: all callbacks have finished\");\n",
       "  }\n",
       "\n",
       "  function load_libs(js_urls, callback) {\n",
       "    root._bokeh_onload_callbacks.push(callback);\n",
       "    if (root._bokeh_is_loading > 0) {\n",
       "      console.log(\"Bokeh: BokehJS is being loaded, scheduling callback at\", now());\n",
       "      return null;\n",
       "    }\n",
       "    if (js_urls == null || js_urls.length === 0) {\n",
       "      run_callbacks();\n",
       "      return null;\n",
       "    }\n",
       "    console.log(\"Bokeh: BokehJS not loaded, scheduling load and callback at\", now());\n",
       "    root._bokeh_is_loading = js_urls.length;\n",
       "    for (var i = 0; i < js_urls.length; i++) {\n",
       "      var url = js_urls[i];\n",
       "      var s = document.createElement('script');\n",
       "      s.src = url;\n",
       "      s.async = false;\n",
       "      s.onreadystatechange = s.onload = function() {\n",
       "        root._bokeh_is_loading--;\n",
       "        if (root._bokeh_is_loading === 0) {\n",
       "          console.log(\"Bokeh: all BokehJS libraries loaded\");\n",
       "          run_callbacks()\n",
       "        }\n",
       "      };\n",
       "      s.onerror = function() {\n",
       "        console.warn(\"failed to load library \" + url);\n",
       "      };\n",
       "      console.log(\"Bokeh: injecting script tag for BokehJS library: \", url);\n",
       "      document.getElementsByTagName(\"head\")[0].appendChild(s);\n",
       "    }\n",
       "  };var element = document.getElementById(\"1081\");\n",
       "  if (element == null) {\n",
       "    console.log(\"Bokeh: ERROR: autoload.js configured with elementid '1081' but no matching script tag was found. \")\n",
       "    return false;\n",
       "  }\n",
       "\n",
       "  var js_urls = [\"https://cdn.pydata.org/bokeh/release/bokeh-1.0.1.min.js\", \"https://cdn.pydata.org/bokeh/release/bokeh-widgets-1.0.1.min.js\", \"https://cdn.pydata.org/bokeh/release/bokeh-tables-1.0.1.min.js\", \"https://cdn.pydata.org/bokeh/release/bokeh-gl-1.0.1.min.js\"];\n",
       "\n",
       "  var inline_js = [\n",
       "    function(Bokeh) {\n",
       "      Bokeh.set_log_level(\"info\");\n",
       "    },\n",
       "    \n",
       "    function(Bokeh) {\n",
       "      \n",
       "    },\n",
       "    function(Bokeh) {\n",
       "      console.log(\"Bokeh: injecting CSS: https://cdn.pydata.org/bokeh/release/bokeh-1.0.1.min.css\");\n",
       "      Bokeh.embed.inject_css(\"https://cdn.pydata.org/bokeh/release/bokeh-1.0.1.min.css\");\n",
       "      console.log(\"Bokeh: injecting CSS: https://cdn.pydata.org/bokeh/release/bokeh-widgets-1.0.1.min.css\");\n",
       "      Bokeh.embed.inject_css(\"https://cdn.pydata.org/bokeh/release/bokeh-widgets-1.0.1.min.css\");\n",
       "      console.log(\"Bokeh: injecting CSS: https://cdn.pydata.org/bokeh/release/bokeh-tables-1.0.1.min.css\");\n",
       "      Bokeh.embed.inject_css(\"https://cdn.pydata.org/bokeh/release/bokeh-tables-1.0.1.min.css\");\n",
       "    }\n",
       "  ];\n",
       "\n",
       "  function run_inline_js() {\n",
       "    \n",
       "    if ((root.Bokeh !== undefined) || (force === true)) {\n",
       "      for (var i = 0; i < inline_js.length; i++) {\n",
       "        inline_js[i].call(root, root.Bokeh);\n",
       "      }if (force === true) {\n",
       "        display_loaded();\n",
       "      }} else if (Date.now() < root._bokeh_timeout) {\n",
       "      setTimeout(run_inline_js, 100);\n",
       "    } else if (!root._bokeh_failed_load) {\n",
       "      console.log(\"Bokeh: BokehJS failed to load within specified timeout.\");\n",
       "      root._bokeh_failed_load = true;\n",
       "    } else if (force !== true) {\n",
       "      var cell = $(document.getElementById(\"1081\")).parents('.cell').data().cell;\n",
       "      cell.output_area.append_execute_result(NB_LOAD_WARNING)\n",
       "    }\n",
       "\n",
       "  }\n",
       "\n",
       "  if (root._bokeh_is_loading === 0) {\n",
       "    console.log(\"Bokeh: BokehJS loaded, going straight to plotting\");\n",
       "    run_inline_js();\n",
       "  } else {\n",
       "    load_libs(js_urls, function() {\n",
       "      console.log(\"Bokeh: BokehJS plotting callback run at\", now());\n",
       "      run_inline_js();\n",
       "    });\n",
       "  }\n",
       "}(window));"
      ],
      "application/vnd.bokehjs_load.v0+json": "\n(function(root) {\n  function now() {\n    return new Date();\n  }\n\n  var force = true;\n\n  if (typeof (root._bokeh_onload_callbacks) === \"undefined\" || force === true) {\n    root._bokeh_onload_callbacks = [];\n    root._bokeh_is_loading = undefined;\n  }\n\n  \n\n  \n  if (typeof (root._bokeh_timeout) === \"undefined\" || force === true) {\n    root._bokeh_timeout = Date.now() + 5000;\n    root._bokeh_failed_load = false;\n  }\n\n  var NB_LOAD_WARNING = {'data': {'text/html':\n     \"<div style='background-color: #fdd'>\\n\"+\n     \"<p>\\n\"+\n     \"BokehJS does not appear to have successfully loaded. If loading BokehJS from CDN, this \\n\"+\n     \"may be due to a slow or bad network connection. Possible fixes:\\n\"+\n     \"</p>\\n\"+\n     \"<ul>\\n\"+\n     \"<li>re-rerun `output_notebook()` to attempt to load from CDN again, or</li>\\n\"+\n     \"<li>use INLINE resources instead, as so:</li>\\n\"+\n     \"</ul>\\n\"+\n     \"<code>\\n\"+\n     \"from bokeh.resources import INLINE\\n\"+\n     \"output_notebook(resources=INLINE)\\n\"+\n     \"</code>\\n\"+\n     \"</div>\"}};\n\n  function display_loaded() {\n    var el = document.getElementById(\"1081\");\n    if (el != null) {\n      el.textContent = \"BokehJS is loading...\";\n    }\n    if (root.Bokeh !== undefined) {\n      if (el != null) {\n        el.textContent = \"BokehJS \" + root.Bokeh.version + \" successfully loaded.\";\n      }\n    } else if (Date.now() < root._bokeh_timeout) {\n      setTimeout(display_loaded, 100)\n    }\n  }\n\n\n  function run_callbacks() {\n    try {\n      root._bokeh_onload_callbacks.forEach(function(callback) { callback() });\n    }\n    finally {\n      delete root._bokeh_onload_callbacks\n    }\n    console.info(\"Bokeh: all callbacks have finished\");\n  }\n\n  function load_libs(js_urls, callback) {\n    root._bokeh_onload_callbacks.push(callback);\n    if (root._bokeh_is_loading > 0) {\n      console.log(\"Bokeh: BokehJS is being loaded, scheduling callback at\", now());\n      return null;\n    }\n    if (js_urls == null || js_urls.length === 0) {\n      run_callbacks();\n      return null;\n    }\n    console.log(\"Bokeh: BokehJS not loaded, scheduling load and callback at\", now());\n    root._bokeh_is_loading = js_urls.length;\n    for (var i = 0; i < js_urls.length; i++) {\n      var url = js_urls[i];\n      var s = document.createElement('script');\n      s.src = url;\n      s.async = false;\n      s.onreadystatechange = s.onload = function() {\n        root._bokeh_is_loading--;\n        if (root._bokeh_is_loading === 0) {\n          console.log(\"Bokeh: all BokehJS libraries loaded\");\n          run_callbacks()\n        }\n      };\n      s.onerror = function() {\n        console.warn(\"failed to load library \" + url);\n      };\n      console.log(\"Bokeh: injecting script tag for BokehJS library: \", url);\n      document.getElementsByTagName(\"head\")[0].appendChild(s);\n    }\n  };var element = document.getElementById(\"1081\");\n  if (element == null) {\n    console.log(\"Bokeh: ERROR: autoload.js configured with elementid '1081' but no matching script tag was found. \")\n    return false;\n  }\n\n  var js_urls = [\"https://cdn.pydata.org/bokeh/release/bokeh-1.0.1.min.js\", \"https://cdn.pydata.org/bokeh/release/bokeh-widgets-1.0.1.min.js\", \"https://cdn.pydata.org/bokeh/release/bokeh-tables-1.0.1.min.js\", \"https://cdn.pydata.org/bokeh/release/bokeh-gl-1.0.1.min.js\"];\n\n  var inline_js = [\n    function(Bokeh) {\n      Bokeh.set_log_level(\"info\");\n    },\n    \n    function(Bokeh) {\n      \n    },\n    function(Bokeh) {\n      console.log(\"Bokeh: injecting CSS: https://cdn.pydata.org/bokeh/release/bokeh-1.0.1.min.css\");\n      Bokeh.embed.inject_css(\"https://cdn.pydata.org/bokeh/release/bokeh-1.0.1.min.css\");\n      console.log(\"Bokeh: injecting CSS: https://cdn.pydata.org/bokeh/release/bokeh-widgets-1.0.1.min.css\");\n      Bokeh.embed.inject_css(\"https://cdn.pydata.org/bokeh/release/bokeh-widgets-1.0.1.min.css\");\n      console.log(\"Bokeh: injecting CSS: https://cdn.pydata.org/bokeh/release/bokeh-tables-1.0.1.min.css\");\n      Bokeh.embed.inject_css(\"https://cdn.pydata.org/bokeh/release/bokeh-tables-1.0.1.min.css\");\n    }\n  ];\n\n  function run_inline_js() {\n    \n    if ((root.Bokeh !== undefined) || (force === true)) {\n      for (var i = 0; i < inline_js.length; i++) {\n        inline_js[i].call(root, root.Bokeh);\n      }if (force === true) {\n        display_loaded();\n      }} else if (Date.now() < root._bokeh_timeout) {\n      setTimeout(run_inline_js, 100);\n    } else if (!root._bokeh_failed_load) {\n      console.log(\"Bokeh: BokehJS failed to load within specified timeout.\");\n      root._bokeh_failed_load = true;\n    } else if (force !== true) {\n      var cell = $(document.getElementById(\"1081\")).parents('.cell').data().cell;\n      cell.output_area.append_execute_result(NB_LOAD_WARNING)\n    }\n\n  }\n\n  if (root._bokeh_is_loading === 0) {\n    console.log(\"Bokeh: BokehJS loaded, going straight to plotting\");\n    run_inline_js();\n  } else {\n    load_libs(js_urls, function() {\n      console.log(\"Bokeh: BokehJS plotting callback run at\", now());\n      run_inline_js();\n    });\n  }\n}(window));"
     },
     "metadata": {},
     "output_type": "display_data"
    },
    {
     "data": {
      "text/html": [
       "\n",
       "\n",
       "\n",
       "\n",
       "\n",
       "\n",
       "  <div class=\"bk-root\" id=\"5756acda-9e46-45c4-9376-476ffb8401af\"></div>\n"
      ]
     },
     "metadata": {},
     "output_type": "display_data"
    },
    {
     "data": {
      "application/javascript": [
       "(function(root) {\n",
       "  function embed_document(root) {\n",
       "    \n",
       "  var docs_json = {\"12ec1a1a-bae9-4310-9e2a-96e94a6a13f8\":{\"roots\":{\"references\":[{\"attributes\":{\"below\":[{\"id\":\"1010\",\"type\":\"LinearAxis\"}],\"left\":[{\"id\":\"1015\",\"type\":\"LinearAxis\"}],\"plot_height\":380,\"plot_width\":500,\"renderers\":[{\"id\":\"1010\",\"type\":\"LinearAxis\"},{\"id\":\"1014\",\"type\":\"Grid\"},{\"id\":\"1015\",\"type\":\"LinearAxis\"},{\"id\":\"1019\",\"type\":\"Grid\"},{\"id\":\"1028\",\"type\":\"BoxAnnotation\"},{\"id\":\"1047\",\"type\":\"Legend\"},{\"id\":\"1038\",\"type\":\"GlyphRenderer\"},{\"id\":\"1052\",\"type\":\"GlyphRenderer\"},{\"id\":\"1067\",\"type\":\"GlyphRenderer\"}],\"title\":{\"id\":\"1041\",\"type\":\"Title\"},\"toolbar\":{\"id\":\"1026\",\"type\":\"Toolbar\"},\"x_range\":{\"id\":\"1002\",\"type\":\"DataRange1d\"},\"x_scale\":{\"id\":\"1006\",\"type\":\"LinearScale\"},\"y_range\":{\"id\":\"1004\",\"type\":\"DataRange1d\"},\"y_scale\":{\"id\":\"1008\",\"type\":\"LinearScale\"}},\"id\":\"1001\",\"subtype\":\"Figure\",\"type\":\"Plot\"},{\"attributes\":{},\"id\":\"1016\",\"type\":\"BasicTicker\"},{\"attributes\":{\"label\":{\"value\":\"Cluster 3\"},\"renderers\":[{\"id\":\"1067\",\"type\":\"GlyphRenderer\"}]},\"id\":\"1080\",\"type\":\"LegendItem\"},{\"attributes\":{\"fill_color\":{\"field\":\"fill_color\"},\"line_color\":{\"value\":null},\"size\":{\"units\":\"screen\",\"value\":8},\"x\":{\"field\":\"x\"},\"y\":{\"field\":\"y\"}},\"id\":\"1065\",\"type\":\"Scatter\"},{\"attributes\":{},\"id\":\"1060\",\"type\":\"Selection\"},{\"attributes\":{\"data_source\":{\"id\":\"1049\",\"type\":\"ColumnDataSource\"},\"glyph\":{\"id\":\"1050\",\"type\":\"Scatter\"},\"hover_glyph\":null,\"muted_glyph\":null,\"nonselection_glyph\":{\"id\":\"1051\",\"type\":\"Scatter\"},\"selection_glyph\":null,\"view\":{\"id\":\"1053\",\"type\":\"CDSView\"}},\"id\":\"1052\",\"type\":\"GlyphRenderer\"},{\"attributes\":{\"fill_alpha\":{\"value\":0.1},\"fill_color\":{\"value\":\"#1f77b4\"},\"line_alpha\":{\"value\":0.1},\"line_color\":{\"value\":\"#1f77b4\"},\"size\":{\"units\":\"screen\",\"value\":8},\"x\":{\"field\":\"x\"},\"y\":{\"field\":\"y\"}},\"id\":\"1037\",\"type\":\"Scatter\"},{\"attributes\":{\"overlay\":{\"id\":\"1028\",\"type\":\"BoxAnnotation\"}},\"id\":\"1022\",\"type\":\"BoxZoomTool\"},{\"attributes\":{\"bottom_units\":\"screen\",\"fill_alpha\":{\"value\":0.5},\"fill_color\":{\"value\":\"lightgrey\"},\"left_units\":\"screen\",\"level\":\"overlay\",\"line_alpha\":{\"value\":1.0},\"line_color\":{\"value\":\"black\"},\"line_dash\":[4,4],\"line_width\":{\"value\":2},\"plot\":null,\"render_mode\":\"css\",\"right_units\":\"screen\",\"top_units\":\"screen\"},\"id\":\"1028\",\"type\":\"BoxAnnotation\"},{\"attributes\":{\"source\":{\"id\":\"1064\",\"type\":\"ColumnDataSource\"}},\"id\":\"1068\",\"type\":\"CDSView\"},{\"attributes\":{},\"id\":\"1025\",\"type\":\"HelpTool\"},{\"attributes\":{\"source\":{\"id\":\"1035\",\"type\":\"ColumnDataSource\"}},\"id\":\"1039\",\"type\":\"CDSView\"},{\"attributes\":{\"items\":[{\"id\":\"1048\",\"type\":\"LegendItem\"},{\"id\":\"1063\",\"type\":\"LegendItem\"},{\"id\":\"1080\",\"type\":\"LegendItem\"}],\"plot\":{\"id\":\"1001\",\"subtype\":\"Figure\",\"type\":\"Plot\"}},\"id\":\"1047\",\"type\":\"Legend\"},{\"attributes\":{},\"id\":\"1093\",\"type\":\"UnionRenderers\"},{\"attributes\":{\"fill_alpha\":{\"value\":0.1},\"fill_color\":{\"value\":\"#1f77b4\"},\"line_alpha\":{\"value\":0.1},\"line_color\":{\"value\":\"#1f77b4\"},\"size\":{\"units\":\"screen\",\"value\":8},\"x\":{\"field\":\"x\"},\"y\":{\"field\":\"y\"}},\"id\":\"1051\",\"type\":\"Scatter\"},{\"attributes\":{},\"id\":\"1021\",\"type\":\"WheelZoomTool\"},{\"attributes\":{\"source\":{\"id\":\"1049\",\"type\":\"ColumnDataSource\"}},\"id\":\"1053\",\"type\":\"CDSView\"},{\"attributes\":{\"formatter\":{\"id\":\"1045\",\"type\":\"BasicTickFormatter\"},\"plot\":{\"id\":\"1001\",\"subtype\":\"Figure\",\"type\":\"Plot\"},\"ticker\":{\"id\":\"1016\",\"type\":\"BasicTicker\"}},\"id\":\"1015\",\"type\":\"LinearAxis\"},{\"attributes\":{\"plot\":null,\"text\":\"\"},\"id\":\"1041\",\"type\":\"Title\"},{\"attributes\":{},\"id\":\"1078\",\"type\":\"UnionRenderers\"},{\"attributes\":{\"callback\":null},\"id\":\"1002\",\"type\":\"DataRange1d\"},{\"attributes\":{},\"id\":\"1045\",\"type\":\"BasicTickFormatter\"},{\"attributes\":{\"fill_color\":{\"field\":\"fill_color\"},\"line_color\":{\"value\":null},\"size\":{\"units\":\"screen\",\"value\":8},\"x\":{\"field\":\"x\"},\"y\":{\"field\":\"y\"}},\"id\":\"1036\",\"type\":\"Scatter\"},{\"attributes\":{\"fill_color\":{\"field\":\"fill_color\"},\"line_color\":{\"value\":null},\"size\":{\"units\":\"screen\",\"value\":8},\"x\":{\"field\":\"x\"},\"y\":{\"field\":\"y\"}},\"id\":\"1050\",\"type\":\"Scatter\"},{\"attributes\":{},\"id\":\"1020\",\"type\":\"PanTool\"},{\"attributes\":{},\"id\":\"1024\",\"type\":\"ResetTool\"},{\"attributes\":{},\"id\":\"1092\",\"type\":\"Selection\"},{\"attributes\":{\"plot\":{\"id\":\"1001\",\"subtype\":\"Figure\",\"type\":\"Plot\"},\"ticker\":{\"id\":\"1011\",\"type\":\"BasicTicker\"}},\"id\":\"1014\",\"type\":\"Grid\"},{\"attributes\":{\"callback\":null,\"data\":{\"fill_color\":[\"green\",\"green\",\"green\",\"green\",\"green\",\"green\",\"green\",\"green\",\"green\",\"green\",\"green\",\"green\",\"green\",\"green\",\"green\",\"green\",\"green\",\"green\",\"green\",\"green\",\"green\",\"green\"],\"x\":{\"__ndarray__\":\"AVDPHnMC5L9mVdOIiH7lv5GOmt3Hbv2/kPUPnWMay7//znlXIpzfv/wNvrjF3tq/kKv1U4oY8r/6B54be/Pyv3qUwzshrvy/rcNaPaVp47/GmHr1jQrNPxN2b/NtavC/TFzMLtjaub+GqkN2JT7XvxJqYrw/Jfq/oDGgkSf3yL+1OdaeeXH9v3sv6CPrLOK/1qjkg8Fz5b+GV7vk9oj+v51+OeEJX+O/XcHdS450wb8=\",\"dtype\":\"float64\",\"shape\":[22]},\"y\":{\"__ndarray__\":\"ZJhfsyGG87/WeWn6H3LwvzS3v9lftc4/wBHBNjpt0L97FXRvxt3wv/WChUoS+fi/DYjIv05s9r8Bbf5M5wrDP8PMJcyMBNk/ZZmEJIAL9b95w1+6/G3xv1AElMG7/c2/b8JAhabh87/CueLSDZL0v+U6375JxLm/qC5RPmvY979PghFhtS/Ev7Jo6pVIQeO/tVupXdXGzb/mFu0182T5v8GuxRjJYOK/j45TvlxVoD8=\",\"dtype\":\"float64\",\"shape\":[22]}},\"selected\":{\"id\":\"1092\",\"type\":\"Selection\"},\"selection_policy\":{\"id\":\"1093\",\"type\":\"UnionRenderers\"}},\"id\":\"1064\",\"type\":\"ColumnDataSource\"},{\"attributes\":{\"data_source\":{\"id\":\"1064\",\"type\":\"ColumnDataSource\"},\"glyph\":{\"id\":\"1065\",\"type\":\"Scatter\"},\"hover_glyph\":null,\"muted_glyph\":null,\"nonselection_glyph\":{\"id\":\"1066\",\"type\":\"Scatter\"},\"selection_glyph\":null,\"view\":{\"id\":\"1068\",\"type\":\"CDSView\"}},\"id\":\"1067\",\"type\":\"GlyphRenderer\"},{\"attributes\":{},\"id\":\"1011\",\"type\":\"BasicTicker\"},{\"attributes\":{\"data_source\":{\"id\":\"1035\",\"type\":\"ColumnDataSource\"},\"glyph\":{\"id\":\"1036\",\"type\":\"Scatter\"},\"hover_glyph\":null,\"muted_glyph\":null,\"nonselection_glyph\":{\"id\":\"1037\",\"type\":\"Scatter\"},\"selection_glyph\":null,\"view\":{\"id\":\"1039\",\"type\":\"CDSView\"}},\"id\":\"1038\",\"type\":\"GlyphRenderer\"},{\"attributes\":{},\"id\":\"1043\",\"type\":\"BasicTickFormatter\"},{\"attributes\":{\"callback\":null,\"data\":{\"fill_color\":[\"blue\",\"blue\",\"blue\",\"blue\",\"blue\",\"blue\",\"blue\",\"blue\",\"blue\",\"blue\",\"blue\",\"blue\",\"blue\",\"blue\",\"blue\",\"blue\",\"blue\",\"blue\"],\"x\":{\"__ndarray__\":\"9nMCtPZO7D+jGORlE8//P7EWY4jQegZABZGvNMMa4j9vLdKMz4X2P7KmxlobLQRAUmDLV4Kn3T/BqteFCLPuPwEjNnL4dfQ/lj7jg8BZ5j+bGc77kdrxP7OBHY1Esvw/4ub9ntl1AkBYkTAGK6fdP42qFyxyqvk/khQ2S9BG8T9wZ9iEnP/rP11q574spuU/\",\"dtype\":\"float64\",\"shape\":[18]},\"y\":{\"__ndarray__\":\"bvEMIKK13T+3MnBKoA3Nv+XyCNWlFvW/h/e+wjB9tz/mGmlbcVjPvwlytUweKLK/AbBl08sF2j872C9R/brWP25xZjqhEO0/zmhy0JP27z9RQQJNE6ryv6LNcF53le0/F1T5ssLQ2z+bfhv5JI3WPxQAc0ZMcNe/SIk42d962b/utWbYPqTNP1YEpGm24Oq/\",\"dtype\":\"float64\",\"shape\":[18]}},\"selected\":{\"id\":\"1060\",\"type\":\"Selection\"},\"selection_policy\":{\"id\":\"1061\",\"type\":\"UnionRenderers\"}},\"id\":\"1035\",\"type\":\"ColumnDataSource\"},{\"attributes\":{\"active_drag\":\"auto\",\"active_inspect\":\"auto\",\"active_multi\":null,\"active_scroll\":\"auto\",\"active_tap\":\"auto\",\"tools\":[{\"id\":\"1020\",\"type\":\"PanTool\"},{\"id\":\"1021\",\"type\":\"WheelZoomTool\"},{\"id\":\"1022\",\"type\":\"BoxZoomTool\"},{\"id\":\"1023\",\"type\":\"SaveTool\"},{\"id\":\"1024\",\"type\":\"ResetTool\"},{\"id\":\"1025\",\"type\":\"HelpTool\"}]},\"id\":\"1026\",\"type\":\"Toolbar\"},{\"attributes\":{},\"id\":\"1023\",\"type\":\"SaveTool\"},{\"attributes\":{\"label\":{\"value\":\"Cluster 1\"},\"renderers\":[{\"id\":\"1038\",\"type\":\"GlyphRenderer\"}]},\"id\":\"1048\",\"type\":\"LegendItem\"},{\"attributes\":{\"fill_alpha\":{\"value\":0.1},\"fill_color\":{\"value\":\"#1f77b4\"},\"line_alpha\":{\"value\":0.1},\"line_color\":{\"value\":\"#1f77b4\"},\"size\":{\"units\":\"screen\",\"value\":8},\"x\":{\"field\":\"x\"},\"y\":{\"field\":\"y\"}},\"id\":\"1066\",\"type\":\"Scatter\"},{\"attributes\":{},\"id\":\"1006\",\"type\":\"LinearScale\"},{\"attributes\":{\"callback\":null},\"id\":\"1004\",\"type\":\"DataRange1d\"},{\"attributes\":{\"callback\":null,\"data\":{\"fill_color\":[\"darkorange\",\"darkorange\",\"darkorange\",\"darkorange\",\"darkorange\",\"darkorange\",\"darkorange\",\"darkorange\",\"darkorange\",\"darkorange\",\"darkorange\"],\"x\":{\"__ndarray__\":\"bR+HGWUq+L8Y8DJroq/uv3r+IgpAmu6/nd6nWS0V5j+I3Y81JVWkvwoadtQcs+W/7M53fYng4L94/eJdW7jhvxMBbT7ohdY/448ahLsi1b+zsSaZF+7yvw==\",\"dtype\":\"float64\",\"shape\":[11]},\"y\":{\"__ndarray__\":\"O0TNFJsD8z+jw6YU9DXnPxy5lHitFwJAKx33ia77+D8XGdmF0A39P0KwoM0FjOU/NgHxYKJF8j9DT+DoGAMCQOxs+hz9Ge4/zDDTRb1L+T8BOKhwRDXuPw==\",\"dtype\":\"float64\",\"shape\":[11]}},\"selected\":{\"id\":\"1077\",\"type\":\"Selection\"},\"selection_policy\":{\"id\":\"1078\",\"type\":\"UnionRenderers\"}},\"id\":\"1049\",\"type\":\"ColumnDataSource\"},{\"attributes\":{},\"id\":\"1061\",\"type\":\"UnionRenderers\"},{\"attributes\":{\"dimension\":1,\"plot\":{\"id\":\"1001\",\"subtype\":\"Figure\",\"type\":\"Plot\"},\"ticker\":{\"id\":\"1016\",\"type\":\"BasicTicker\"}},\"id\":\"1019\",\"type\":\"Grid\"},{\"attributes\":{},\"id\":\"1077\",\"type\":\"Selection\"},{\"attributes\":{\"label\":{\"value\":\"Cluster 2\"},\"renderers\":[{\"id\":\"1052\",\"type\":\"GlyphRenderer\"}]},\"id\":\"1063\",\"type\":\"LegendItem\"},{\"attributes\":{},\"id\":\"1008\",\"type\":\"LinearScale\"},{\"attributes\":{\"formatter\":{\"id\":\"1043\",\"type\":\"BasicTickFormatter\"},\"plot\":{\"id\":\"1001\",\"subtype\":\"Figure\",\"type\":\"Plot\"},\"ticker\":{\"id\":\"1011\",\"type\":\"BasicTicker\"}},\"id\":\"1010\",\"type\":\"LinearAxis\"}],\"root_ids\":[\"1001\"]},\"title\":\"Bokeh Application\",\"version\":\"1.0.1\"}};\n",
       "  var render_items = [{\"docid\":\"12ec1a1a-bae9-4310-9e2a-96e94a6a13f8\",\"roots\":{\"1001\":\"5756acda-9e46-45c4-9376-476ffb8401af\"}}];\n",
       "  root.Bokeh.embed.embed_items_notebook(docs_json, render_items);\n",
       "\n",
       "  }\n",
       "  if (root.Bokeh !== undefined) {\n",
       "    embed_document(root);\n",
       "  } else {\n",
       "    var attempts = 0;\n",
       "    var timer = setInterval(function(root) {\n",
       "      if (root.Bokeh !== undefined) {\n",
       "        embed_document(root);\n",
       "        clearInterval(timer);\n",
       "      }\n",
       "      attempts++;\n",
       "      if (attempts > 100) {\n",
       "        console.log(\"Bokeh: ERROR: Unable to run BokehJS code because BokehJS library is missing\");\n",
       "        clearInterval(timer);\n",
       "      }\n",
       "    }, 10, root)\n",
       "  }\n",
       "})(window);"
      ],
      "application/vnd.bokehjs_exec.v0+json": ""
     },
     "metadata": {
      "application/vnd.bokehjs_exec.v0+json": {
       "id": "1001"
      }
     },
     "output_type": "display_data"
    }
   ],
   "source": [
    "# Try Bokeh as well to see how it looks\n",
    "import bokeh\n",
    "from bokeh.plotting import figure, output_file, show\n",
    "from bokeh.models import Legend\n",
    "from bokeh.io import output_notebook\n",
    "\n",
    "p = figure(plot_width=500, plot_height=380)\n",
    "p.scatter(new['p_comp1'][new['clusters']==1], new['p_comp2'][new['clusters']==1], fill_color=new['colors'][new['clusters']==1], size=8, legend=['Cluster 1'], line_color=None)\n",
    "p.scatter(new['p_comp1'][new['clusters']==2], new['p_comp2'][new['clusters']==2], fill_color=new['colors'][new['clusters']==2], size=8, legend=['Cluster 2'], line_color=None)\n",
    "p.scatter(new['p_comp1'][new['clusters']==3], new['p_comp2'][new['clusters']==3], fill_color=new['colors'][new['clusters']==3], size=8, legend=['Cluster 3'], line_color=None)\n",
    "\n",
    "output_notebook()\n",
    "\n",
    "# show the results\n",
    "show(p)"
   ]
  },
  {
   "cell_type": "code",
   "execution_count": 13,
   "metadata": {
    "ExecuteTime": {
     "end_time": "2018-11-25T02:28:24.249465Z",
     "start_time": "2018-11-25T02:28:24.166516Z"
    }
   },
   "outputs": [
    {
     "data": {
      "application/javascript": [
       "var spec = {\"config\": {\"view\": {\"width\": 400, \"height\": 300}}, \"data\": {\"name\": \"data-e7b7c0fd22184a1bf7bce5d2ec29d821\"}, \"mark\": {\"type\": \"circle\", \"opacity\": 1, \"size\": 80}, \"encoding\": {\"color\": {\"type\": \"nominal\", \"field\": \"color2\", \"legend\": {\"title\": \"Cluster\"}}, \"x\": {\"type\": \"quantitative\", \"axis\": {\"title\": \"Comp 1\"}, \"field\": \"p_comp1\"}, \"y\": {\"type\": \"quantitative\", \"axis\": {\"title\": \"Comp 2\"}, \"field\": \"p_comp2\"}}, \"selection\": {\"selector001\": {\"type\": \"interval\", \"bind\": \"scales\", \"encodings\": [\"x\", \"y\"]}}, \"$schema\": \"https://vega.github.io/schema/vega-lite/v2.6.0.json\", \"datasets\": {\"data-e7b7c0fd22184a1bf7bce5d2ec29d821\": [{\"p_comp1\": 0.8846391216098926, \"p_comp2\": 0.4642110169404735, \"clusters\": 1, \"colors\": \"blue\", \"color2\": 1}, {\"p_comp1\": -0.6252990342859449, \"p_comp2\": -1.2202469832204992, \"clusters\": 3, \"colors\": \"green\", \"color2\": 3}, {\"p_comp1\": -0.6716959640859101, \"p_comp2\": -1.0278625280112599, \"clusters\": 3, \"colors\": \"green\", \"color2\": 3}, {\"p_comp1\": -1.8395460754772197, \"p_comp2\": 0.23991010792036038, \"clusters\": 3, \"colors\": \"green\", \"color2\": 3}, {\"p_comp1\": -0.2117428318887673, \"p_comp2\": -0.2566667113026391, \"clusters\": 3, \"colors\": \"green\", \"color2\": 3}, {\"p_comp1\": -0.49390467207489047, \"p_comp2\": -1.0541443208361148, \"clusters\": 3, \"colors\": \"green\", \"color2\": 3}, {\"p_comp1\": 1.988055608760569, \"p_comp2\": -0.22697833666497555, \"clusters\": 1, \"colors\": \"blue\", \"color2\": 1}, {\"p_comp1\": -0.41984694520235144, \"p_comp2\": -1.5608084593770262, \"clusters\": 3, \"colors\": \"green\", \"color2\": 3}, {\"p_comp1\": -1.1309912948297303, \"p_comp2\": -1.4014422885452433, \"clusters\": 3, \"colors\": \"green\", \"color2\": 3}, {\"p_comp1\": -1.184443576698412, \"p_comp2\": 0.1487702489801919, \"clusters\": 3, \"colors\": \"green\", \"color2\": 3}, {\"p_comp1\": -1.7925121626406324, \"p_comp2\": 0.3909027093533945, \"clusters\": 3, \"colors\": \"green\", \"color2\": 3}, {\"p_comp1\": 2.809968057178445, \"p_comp2\": -1.3180292436292629, \"clusters\": 1, \"colors\": \"blue\", \"color2\": 1}, {\"p_comp1\": -0.6066461752253552, \"p_comp2\": -1.315307753227523, \"clusters\": 3, \"colors\": \"green\", \"color2\": 3}, {\"p_comp1\": 0.22688459860109428, \"p_comp2\": -1.0893523483502732, \"clusters\": 3, \"colors\": \"green\", \"color2\": 3}, {\"p_comp1\": -1.0259837636180051, \"p_comp2\": -0.23430582954464052, \"clusters\": 3, \"colors\": \"green\", \"color2\": 3}, {\"p_comp1\": -1.5103503224545094, \"p_comp2\": 1.18838031888687, \"clusters\": 2, \"colors\": \"darkorange\", \"color2\": 2}, {\"p_comp1\": -0.9589397519807816, \"p_comp2\": 0.7253361132953738, \"clusters\": 2, \"colors\": \"darkorange\", \"color2\": 2}, {\"p_comp1\": -0.9563293645841917, \"p_comp2\": 2.2615613384615596, \"clusters\": 2, \"colors\": \"darkorange\", \"color2\": 2}, {\"p_comp1\": -0.10099555151497092, \"p_comp2\": -1.242590446967508, \"clusters\": 3, \"colors\": \"green\", \"color2\": 3}, {\"p_comp1\": 0.5657669095058117, \"p_comp2\": 0.09175400499858997, \"clusters\": 1, \"colors\": \"blue\", \"color2\": 1}, {\"p_comp1\": -0.3631681113171584, \"p_comp2\": -1.285657714626368, \"clusters\": 3, \"colors\": \"green\", \"color2\": 3}, {\"p_comp1\": 0.6900851012314494, \"p_comp2\": 1.5614457501668066, \"clusters\": 2, \"colors\": \"darkorange\", \"color2\": 2}, {\"p_comp1\": -0.03971210745651904, \"p_comp2\": 1.815872691005614, \"clusters\": 2, \"colors\": \"darkorange\", \"color2\": 2}, {\"p_comp1\": -0.6781143331180044, \"p_comp2\": 0.6733426109472094, \"clusters\": 2, \"colors\": \"darkorange\", \"color2\": 2}, {\"p_comp1\": -1.6340939863936268, \"p_comp2\": -0.10065136823616745, \"clusters\": 3, \"colors\": \"green\", \"color2\": 3}, {\"p_comp1\": 1.4076686383076227, \"p_comp2\": -0.2448865600910814, \"clusters\": 1, \"colors\": \"blue\", \"color2\": 1}, {\"p_comp1\": 2.522024830996849, \"p_comp2\": -0.07092465756199585, \"clusters\": 1, \"colors\": \"blue\", \"color2\": 1}, {\"p_comp1\": -0.5274093103930375, \"p_comp2\": 1.1420005594992069, \"clusters\": 2, \"colors\": \"darkorange\", \"color2\": 2}, {\"p_comp1\": -0.19504255877144505, \"p_comp2\": -1.4903366503012112, \"clusters\": 3, \"colors\": \"green\", \"color2\": 3}, {\"p_comp1\": 0.4633489472739757, \"p_comp2\": 0.4066037716318079, \"clusters\": 1, \"colors\": \"blue\", \"color2\": 1}, {\"p_comp1\": -0.5537545045589658, \"p_comp2\": 2.251512355180155, \"clusters\": 2, \"colors\": \"darkorange\", \"color2\": 2}, {\"p_comp1\": -1.8402038769305424, \"p_comp2\": -0.15770594825427728, \"clusters\": 3, \"colors\": \"green\", \"color2\": 3}, {\"p_comp1\": 0.35192304703015614, \"p_comp2\": 0.9406724515896747, \"clusters\": 2, \"colors\": \"darkorange\", \"color2\": 2}, {\"p_comp1\": 0.9593546499357545, \"p_comp2\": 0.35516293457419906, \"clusters\": 1, \"colors\": \"blue\", \"color2\": 1}, {\"p_comp1\": 1.278801389826356, \"p_comp2\": 0.9082800045612609, \"clusters\": 1, \"colors\": \"blue\", \"color2\": 1}, {\"p_comp1\": 0.6984560562068107, \"p_comp2\": 0.9988497801998848, \"clusters\": 1, \"colors\": \"blue\", \"color2\": 1}, {\"p_comp1\": -0.5679832173641296, \"p_comp2\": -0.6017191818275676, \"clusters\": 3, \"colors\": \"green\", \"color2\": 3}, {\"p_comp1\": -0.6703803611792647, \"p_comp2\": -0.23263041566198486, \"clusters\": 3, \"colors\": \"green\", \"color2\": 3}, {\"p_comp1\": 1.1158618770728939, \"p_comp2\": -1.1665223129421813, \"clusters\": 1, \"colors\": \"blue\", \"color2\": 1}, {\"p_comp1\": 1.7935224067988258, \"p_comp2\": 0.9244953960937219, \"clusters\": 1, \"colors\": \"blue\", \"color2\": 1}, {\"p_comp1\": 2.307543985484572, \"p_comp2\": 0.4346167323868157, \"clusters\": 1, \"colors\": \"blue\", \"color2\": 1}, {\"p_comp1\": 0.46332812885727526, \"p_comp2\": 0.35236477209944334, \"clusters\": 1, \"colors\": \"blue\", \"color2\": 1}, {\"p_comp1\": -0.33024490261800404, \"p_comp2\": 1.5809910514390593, \"clusters\": 2, \"colors\": \"darkorange\", \"color2\": 2}, {\"p_comp1\": 1.6041127893792322, \"p_comp2\": -0.3662291229229606, \"clusters\": 1, \"colors\": \"blue\", \"color2\": 1}, {\"p_comp1\": -1.9084385809742073, \"p_comp2\": -1.587146006249378, \"clusters\": 3, \"colors\": \"green\", \"color2\": 3}, {\"p_comp1\": -0.6053513907354106, \"p_comp2\": -0.5743146404106129, \"clusters\": 3, \"colors\": \"green\", \"color2\": 3}, {\"p_comp1\": -1.1831279737917668, \"p_comp2\": 0.9440023613294671, \"clusters\": 2, \"colors\": \"darkorange\", \"color2\": 2}, {\"p_comp1\": 1.0797884881915576, \"p_comp2\": -0.39812465870831604, \"clusters\": 1, \"colors\": \"blue\", \"color2\": 1}, {\"p_comp1\": -0.13636950210958335, \"p_comp2\": 0.03190126250572433, \"clusters\": 3, \"colors\": \"green\", \"color2\": 3}, {\"p_comp1\": 0.8749525637278861, \"p_comp2\": 0.23157487455811981, \"clusters\": 1, \"colors\": \"blue\", \"color2\": 1}, {\"p_comp1\": 0.6765350082963085, \"p_comp2\": -0.8399307311339139, \"clusters\": 1, \"colors\": \"blue\", \"color2\": 1}]}};\n",
       "var opt = {};\n",
       "var type = \"vega-lite\";\n",
       "var id = \"2d085c70-f6f8-49a5-9b4d-ed049acd4cb4\";\n",
       "\n",
       "var output_area = this;\n",
       "\n",
       "require([\"nbextensions/jupyter-vega/index\"], function(vega) {\n",
       "  var target = document.createElement(\"div\");\n",
       "  target.id = id;\n",
       "  target.className = \"vega-embed\";\n",
       "\n",
       "  var style = document.createElement(\"style\");\n",
       "  style.textContent = [\n",
       "    \".vega-embed .error p {\",\n",
       "    \"  color: firebrick;\",\n",
       "    \"  font-size: 14px;\",\n",
       "    \"}\",\n",
       "  ].join(\"\\\\n\");\n",
       "\n",
       "  // element is a jQuery wrapped DOM element inside the output area\n",
       "  // see http://ipython.readthedocs.io/en/stable/api/generated/\\\n",
       "  // IPython.display.html#IPython.display.Javascript.__init__\n",
       "  element[0].appendChild(target);\n",
       "  element[0].appendChild(style);\n",
       "\n",
       "  vega.render(\"#\" + id, spec, type, opt, output_area);\n",
       "}, function (err) {\n",
       "  if (err.requireType !== \"scripterror\") {\n",
       "    throw(err);\n",
       "  }\n",
       "});\n"
      ],
      "text/plain": [
       "<vega.vegalite.VegaLite at 0x26262957240>"
      ]
     },
     "metadata": {
      "jupyter-vega": "#2d085c70-f6f8-49a5-9b4d-ed049acd4cb4"
     },
     "output_type": "display_data"
    },
    {
     "data": {
      "text/plain": []
     },
     "execution_count": 13,
     "metadata": {},
     "output_type": "execute_result"
    },
    {
     "data": {
      "image/png": "[encoded data removed]"
     },
     "metadata": {
      "jupyter-vega": "#2d085c70-f6f8-49a5-9b4d-ed049acd4cb4"
     },
     "output_type": "display_data"
    }
   ],
   "source": [
    "# Try Altair\n",
    "import altair as alt\n",
    "alt.renderers.enable('notebook')\n",
    "\n",
    "new2=new.copy()\n",
    "new2['color2']=new2['clusters'].astype('category')\n",
    "\n",
    "alt.Chart(new2).mark_circle(size=80, opacity=1).encode(\n",
    "    x=alt.X('p_comp1', axis=alt.Axis(title='Comp 1')),\n",
    "    y=alt.Y('p_comp2', axis=alt.Axis(title='Comp 2')),\n",
    "    color=alt.Color(\n",
    "        'color2',\n",
    "        legend=alt.Legend(title='Cluster'),\n",
    "    )\n",
    ").interactive()"
   ]
  },
  {
   "cell_type": "markdown",
   "metadata": {},
   "source": [
    "We can see the separation of the 3 clusters for 2 principle components into 3 general regions. The clustering does make sense."
   ]
  },
  {
   "cell_type": "markdown",
   "metadata": {
    "dc": {
     "key": "66"
    },
    "deletable": false,
    "editable": false,
    "run_control": {
     "frozen": true
    },
    "tags": [
     "context"
    ]
   },
   "source": [
    "## 10. Visualize the feature differences between the clusters\n",
    "<p>Thus far, we have used both our visual interpretation of the data and the KMeans clustering algorithm to reveal patterns in the data, but what do these patterns mean?</p>\n",
    "<p>Remember that the information we have used to cluster the states into three distinct groups are the percentage of drivers speeding, under alcohol influence and that has not previously been involved in an accident. We used these clusters to visualize how the states group together when considering the first two principal components. This is good for us to understand structure in the data, but not always easy to understand, especially not if the findings are to be communicated to a non-specialist audience.</p>\n",
    "<p>A reasonable next step in our analysis is to explore how the three clusters are different in terms of the three features that we used for clustering. Instead of using the scaled features, we return to using the unscaled features to help us interpret the differences.</p>"
   ]
  },
  {
   "cell_type": "code",
   "execution_count": 14,
   "metadata": {
    "ExecuteTime": {
     "end_time": "2018-11-25T02:28:24.903069Z",
     "start_time": "2018-11-25T02:28:24.251466Z"
    },
    "dc": {
     "key": "66"
    },
    "tags": [
     "sample_code"
    ]
   },
   "outputs": [
    {
     "name": "stderr",
     "output_type": "stream",
     "text": [
      "C:\\Users\\hp\\Anaconda3\\lib\\site-packages\\scipy\\stats\\stats.py:1713: FutureWarning: Using a non-tuple sequence for multidimensional indexing is deprecated; use `arr[tuple(seq)]` instead of `arr[seq]`. In the future this will be interpreted as an array index, `arr[np.array(seq)]`, which will result either in an error or a different result.\n",
      "  return np.add.reduce(sorted[indexer] * weights, axis=axis) / sumval\n"
     ]
    },
    {
     "data": {
      "image/png": "[encoded data removed]",
      "text/plain": [
       "<Figure size 864x864 with 1 Axes>"
      ]
     },
     "metadata": {
      "needs_background": "light"
     },
     "output_type": "display_data"
    }
   ],
   "source": [
    "# Create a new column in the original df with the labels from the KMeans clustering\n",
    "car_acc['cluster'] = km.labels_ + 1\n",
    "\n",
    "# Reshape the DataFrame to the long format to make the violin plots\n",
    "melt_car = pd.melt(car_acc, id_vars=['cluster'], value_vars=['perc_fatl_speed', 'perc_fatl_alcohol', 'perc_fatl_1st_time'], \n",
    "                   var_name='measurement', value_name='percent')\n",
    "\n",
    "# Create a violin plot splitting and coloring the results according to the km-clusters\n",
    "plt.figure(figsize=(12, 12))\n",
    "sns.violinplot(x='percent', y = 'measurement', hue='cluster', data=melt_car)\n",
    "plt.show()\n",
    "\n",
    "# plt.figure(figsize=(8, 12))\n",
    "# sns.violinplot(x='measurement', y = 'percent', hue='cluster', data=melt_car)\n",
    "# plt.show()"
   ]
  },
  {
   "cell_type": "markdown",
   "metadata": {},
   "source": [
    "Each cluster looks to have a different distribution for each feature. This means that different groups of states have different responses."
   ]
  },
  {
   "cell_type": "markdown",
   "metadata": {
    "dc": {
     "key": "73"
    },
    "deletable": false,
    "run_control": {
     "frozen": true
    },
    "tags": [
     "context"
    ]
   },
   "source": [
    "## 11. Compute the number of accidents within each cluster\n",
    "<p>Now it is clear that different groups of states may require different interventions. Since resources and time are limited, it is useful to start off with an intervention in one of the three groups first. Which group would this be? To determine this, we will include data on how many miles are driven in each state, because this will help us to compute the total number of fatal accidents in each state. Data on miles driven is available in another tab-delimited text file. We will assign this new information to a column in the DataFrame and create a bar plot for how many total fatal traffic accidents there are within each cluster of states.</p>"
   ]
  },
  {
   "cell_type": "code",
   "execution_count": 15,
   "metadata": {
    "ExecuteTime": {
     "end_time": "2018-11-25T02:28:25.114938Z",
     "start_time": "2018-11-25T02:28:24.906067Z"
    },
    "dc": {
     "key": "73"
    },
    "tags": [
     "sample_code"
    ]
   },
   "outputs": [
    {
     "data": {
      "image/png": "[encoded data removed]",
      "text/plain": [
       "<Figure size 576x432 with 1 Axes>"
      ]
     },
     "metadata": {
      "needs_background": "light"
     },
     "output_type": "display_data"
    },
    {
     "data": {
      "text/html": [
       "<div>\n",
       "<style scoped>\n",
       "    .dataframe tbody tr th:only-of-type {\n",
       "        vertical-align: middle;\n",
       "    }\n",
       "\n",
       "    .dataframe tbody tr th {\n",
       "        vertical-align: top;\n",
       "    }\n",
       "\n",
       "    .dataframe thead th {\n",
       "        text-align: right;\n",
       "    }\n",
       "</style>\n",
       "<table border=\"1\" class=\"dataframe\">\n",
       "  <thead>\n",
       "    <tr style=\"text-align: right;\">\n",
       "      <th></th>\n",
       "      <th>count</th>\n",
       "      <th>mean</th>\n",
       "      <th>sum</th>\n",
       "    </tr>\n",
       "    <tr>\n",
       "      <th>cluster</th>\n",
       "      <th></th>\n",
       "      <th></th>\n",
       "      <th></th>\n",
       "    </tr>\n",
       "  </thead>\n",
       "  <tbody>\n",
       "    <tr>\n",
       "      <th>1</th>\n",
       "      <td>18</td>\n",
       "      <td>911.406439</td>\n",
       "      <td>16405.3159</td>\n",
       "    </tr>\n",
       "    <tr>\n",
       "      <th>2</th>\n",
       "      <td>11</td>\n",
       "      <td>860.505945</td>\n",
       "      <td>9465.5654</td>\n",
       "    </tr>\n",
       "    <tr>\n",
       "      <th>3</th>\n",
       "      <td>22</td>\n",
       "      <td>898.378595</td>\n",
       "      <td>19764.3291</td>\n",
       "    </tr>\n",
       "  </tbody>\n",
       "</table>\n",
       "</div>"
      ],
      "text/plain": [
       "         count        mean         sum\n",
       "cluster                               \n",
       "1           18  911.406439  16405.3159\n",
       "2           11  860.505945   9465.5654\n",
       "3           22  898.378595  19764.3291"
      ]
     },
     "execution_count": 15,
     "metadata": {},
     "output_type": "execute_result"
    }
   ],
   "source": [
    "# Read in the new dataset\n",
    "miles_driven = pd.read_csv('datasets/miles-driven.csv', sep='|')\n",
    "\n",
    "# Merge the 'car_acc' DataFrame with the 'miles_driven' DataFrame\n",
    "car_acc_miles = car_acc.merge(miles_driven, on = 'state')\n",
    "\n",
    "# Create a new column for the number of drivers involved in fatal accidents\n",
    "car_acc_miles['num_drvr_fatl_col'] = car_acc_miles['drvr_fatl_col_bmiles'] * car_acc_miles['million_miles_annually'] / 1000\n",
    "\n",
    "# Create a barplot of the total number of accidents per cluster\n",
    "plt.figure(figsize=(8, 6))\n",
    "sns.barplot(x='cluster', y='num_drvr_fatl_col', data=car_acc_miles, estimator=sum, ci=None)\n",
    "plt.title('Number of Fatalities in each Cluster', size=20)\n",
    "plt.xlabel('Cluster', size=20)\n",
    "plt.ylabel('Number of Fatalities', size=20)\n",
    "plt.show()\n",
    "\n",
    "# Calculate the number of states in each cluster and their 'num_drvr_fatl_col' mean and sum.\n",
    "count_mean_sum = car_acc_miles.groupby('cluster')['num_drvr_fatl_col'].agg(['count', 'mean', 'sum'])\n",
    "count_mean_sum"
   ]
  },
  {
   "cell_type": "markdown",
   "metadata": {},
   "source": [
    "The number of fatalities per cluster shown in the figure above correlates almost perfectly with the number of states in each cluster: 18, 11, 22 for clusters 0, 1, and 2 respectively. So this figure does not tell us much."
   ]
  },
  {
   "cell_type": "markdown",
   "metadata": {
    "dc": {
     "key": "80"
    },
    "deletable": false,
    "run_control": {
     "frozen": true
    },
    "tags": [
     "context"
    ]
   },
   "source": [
    "## 12. Make a decision when there is no clear right choice\n",
    "<p>As we can see, there is no obvious correct choice regarding which cluster is the most important to focus on. Yet, given all the analysis a case must be made to focus on a certain cluster. Which cluster do you think should be a focus for policy intervention and further investigation?</p>"
   ]
  },
  {
   "cell_type": "code",
   "execution_count": 16,
   "metadata": {
    "ExecuteTime": {
     "end_time": "2018-11-25T02:28:25.122933Z",
     "start_time": "2018-11-25T02:28:25.116937Z"
    },
    "dc": {
     "key": "80"
    },
    "tags": [
     "sample_code"
    ]
   },
   "outputs": [],
   "source": [
    "# Which cluster would you choose?\n",
    "cluster_num = 1"
   ]
  },
  {
   "cell_type": "markdown",
   "metadata": {},
   "source": [
    "Cluster 1 seems to edge out the other clusters in having the highest mean percentage of fatalities due to both speed and alcohol. It also has a very wide distribution for speed and a bimodal distribution for alcohol. This may be a good place to start. We could start by thinking about ways to reduce accidents in Alabama, Missouri, North Carolina, Ohio, Pennsylvania, South Carolina, and Texas as these states have the largest number of fatalities. I would suggest focusing on general ways to reduce speeding accidents in these states as well as focusing on implementing policies to reduce alcohol related accidents."
   ]
  },
  {
   "cell_type": "code",
   "execution_count": 17,
   "metadata": {
    "ExecuteTime": {
     "end_time": "2018-11-25T02:28:25.167905Z",
     "start_time": "2018-11-25T02:28:25.127931Z"
    },
    "scrolled": false
   },
   "outputs": [
    {
     "data": {
      "text/html": [
       "<div>\n",
       "<style scoped>\n",
       "    .dataframe tbody tr th:only-of-type {\n",
       "        vertical-align: middle;\n",
       "    }\n",
       "\n",
       "    .dataframe tbody tr th {\n",
       "        vertical-align: top;\n",
       "    }\n",
       "\n",
       "    .dataframe thead th {\n",
       "        text-align: right;\n",
       "    }\n",
       "</style>\n",
       "<table border=\"1\" class=\"dataframe\">\n",
       "  <thead>\n",
       "    <tr style=\"text-align: right;\">\n",
       "      <th></th>\n",
       "      <th>state</th>\n",
       "      <th>drvr_fatl_col_bmiles</th>\n",
       "      <th>perc_fatl_speed</th>\n",
       "      <th>perc_fatl_alcohol</th>\n",
       "      <th>perc_fatl_1st_time</th>\n",
       "      <th>cluster</th>\n",
       "      <th>million_miles_annually</th>\n",
       "      <th>num_drvr_fatl_col</th>\n",
       "    </tr>\n",
       "  </thead>\n",
       "  <tbody>\n",
       "    <tr>\n",
       "      <th>0</th>\n",
       "      <td>Alabama</td>\n",
       "      <td>18.8</td>\n",
       "      <td>39</td>\n",
       "      <td>30</td>\n",
       "      <td>80</td>\n",
       "      <td>1</td>\n",
       "      <td>64914</td>\n",
       "      <td>1220.3832</td>\n",
       "    </tr>\n",
       "    <tr>\n",
       "      <th>6</th>\n",
       "      <td>Connecticut</td>\n",
       "      <td>10.8</td>\n",
       "      <td>46</td>\n",
       "      <td>36</td>\n",
       "      <td>82</td>\n",
       "      <td>1</td>\n",
       "      <td>31197</td>\n",
       "      <td>336.9276</td>\n",
       "    </tr>\n",
       "    <tr>\n",
       "      <th>11</th>\n",
       "      <td>Hawaii</td>\n",
       "      <td>17.5</td>\n",
       "      <td>54</td>\n",
       "      <td>41</td>\n",
       "      <td>87</td>\n",
       "      <td>1</td>\n",
       "      <td>10066</td>\n",
       "      <td>176.1550</td>\n",
       "    </tr>\n",
       "    <tr>\n",
       "      <th>19</th>\n",
       "      <td>Maine</td>\n",
       "      <td>15.1</td>\n",
       "      <td>38</td>\n",
       "      <td>30</td>\n",
       "      <td>84</td>\n",
       "      <td>1</td>\n",
       "      <td>14248</td>\n",
       "      <td>215.1448</td>\n",
       "    </tr>\n",
       "    <tr>\n",
       "      <th>25</th>\n",
       "      <td>Missouri</td>\n",
       "      <td>16.1</td>\n",
       "      <td>43</td>\n",
       "      <td>34</td>\n",
       "      <td>84</td>\n",
       "      <td>1</td>\n",
       "      <td>68789</td>\n",
       "      <td>1107.5029</td>\n",
       "    </tr>\n",
       "    <tr>\n",
       "      <th>26</th>\n",
       "      <td>Montana</td>\n",
       "      <td>21.4</td>\n",
       "      <td>39</td>\n",
       "      <td>44</td>\n",
       "      <td>85</td>\n",
       "      <td>1</td>\n",
       "      <td>11660</td>\n",
       "      <td>249.5240</td>\n",
       "    </tr>\n",
       "    <tr>\n",
       "      <th>29</th>\n",
       "      <td>New Hampshire</td>\n",
       "      <td>11.6</td>\n",
       "      <td>35</td>\n",
       "      <td>30</td>\n",
       "      <td>83</td>\n",
       "      <td>1</td>\n",
       "      <td>12720</td>\n",
       "      <td>147.5520</td>\n",
       "    </tr>\n",
       "    <tr>\n",
       "      <th>33</th>\n",
       "      <td>North Carolina</td>\n",
       "      <td>16.8</td>\n",
       "      <td>39</td>\n",
       "      <td>31</td>\n",
       "      <td>81</td>\n",
       "      <td>1</td>\n",
       "      <td>103772</td>\n",
       "      <td>1743.3696</td>\n",
       "    </tr>\n",
       "    <tr>\n",
       "      <th>34</th>\n",
       "      <td>North Dakota</td>\n",
       "      <td>23.9</td>\n",
       "      <td>23</td>\n",
       "      <td>42</td>\n",
       "      <td>86</td>\n",
       "      <td>1</td>\n",
       "      <td>9131</td>\n",
       "      <td>218.2309</td>\n",
       "    </tr>\n",
       "    <tr>\n",
       "      <th>35</th>\n",
       "      <td>Ohio</td>\n",
       "      <td>14.1</td>\n",
       "      <td>28</td>\n",
       "      <td>34</td>\n",
       "      <td>82</td>\n",
       "      <td>1</td>\n",
       "      <td>111990</td>\n",
       "      <td>1579.0590</td>\n",
       "    </tr>\n",
       "    <tr>\n",
       "      <th>38</th>\n",
       "      <td>Pennsylvania</td>\n",
       "      <td>18.2</td>\n",
       "      <td>50</td>\n",
       "      <td>31</td>\n",
       "      <td>88</td>\n",
       "      <td>1</td>\n",
       "      <td>99204</td>\n",
       "      <td>1805.5128</td>\n",
       "    </tr>\n",
       "    <tr>\n",
       "      <th>39</th>\n",
       "      <td>Rhode Island</td>\n",
       "      <td>11.1</td>\n",
       "      <td>34</td>\n",
       "      <td>38</td>\n",
       "      <td>79</td>\n",
       "      <td>1</td>\n",
       "      <td>7901</td>\n",
       "      <td>87.7011</td>\n",
       "    </tr>\n",
       "    <tr>\n",
       "      <th>40</th>\n",
       "      <td>South Carolina</td>\n",
       "      <td>23.9</td>\n",
       "      <td>38</td>\n",
       "      <td>41</td>\n",
       "      <td>81</td>\n",
       "      <td>1</td>\n",
       "      <td>48730</td>\n",
       "      <td>1164.6470</td>\n",
       "    </tr>\n",
       "    <tr>\n",
       "      <th>41</th>\n",
       "      <td>South Dakota</td>\n",
       "      <td>19.4</td>\n",
       "      <td>31</td>\n",
       "      <td>33</td>\n",
       "      <td>86</td>\n",
       "      <td>1</td>\n",
       "      <td>9002</td>\n",
       "      <td>174.6388</td>\n",
       "    </tr>\n",
       "    <tr>\n",
       "      <th>43</th>\n",
       "      <td>Texas</td>\n",
       "      <td>19.4</td>\n",
       "      <td>40</td>\n",
       "      <td>38</td>\n",
       "      <td>87</td>\n",
       "      <td>1</td>\n",
       "      <td>237440</td>\n",
       "      <td>4606.3360</td>\n",
       "    </tr>\n",
       "    <tr>\n",
       "      <th>47</th>\n",
       "      <td>Washington</td>\n",
       "      <td>10.6</td>\n",
       "      <td>42</td>\n",
       "      <td>33</td>\n",
       "      <td>86</td>\n",
       "      <td>1</td>\n",
       "      <td>56955</td>\n",
       "      <td>603.7230</td>\n",
       "    </tr>\n",
       "    <tr>\n",
       "      <th>49</th>\n",
       "      <td>Wisconsin</td>\n",
       "      <td>13.8</td>\n",
       "      <td>36</td>\n",
       "      <td>33</td>\n",
       "      <td>84</td>\n",
       "      <td>1</td>\n",
       "      <td>58554</td>\n",
       "      <td>808.0452</td>\n",
       "    </tr>\n",
       "    <tr>\n",
       "      <th>50</th>\n",
       "      <td>Wyoming</td>\n",
       "      <td>17.4</td>\n",
       "      <td>42</td>\n",
       "      <td>32</td>\n",
       "      <td>90</td>\n",
       "      <td>1</td>\n",
       "      <td>9245</td>\n",
       "      <td>160.8630</td>\n",
       "    </tr>\n",
       "  </tbody>\n",
       "</table>\n",
       "</div>"
      ],
      "text/plain": [
       "             state  drvr_fatl_col_bmiles  perc_fatl_speed  perc_fatl_alcohol  \\\n",
       "0          Alabama                  18.8               39                 30   \n",
       "6      Connecticut                  10.8               46                 36   \n",
       "11          Hawaii                  17.5               54                 41   \n",
       "19           Maine                  15.1               38                 30   \n",
       "25        Missouri                  16.1               43                 34   \n",
       "26         Montana                  21.4               39                 44   \n",
       "29   New Hampshire                  11.6               35                 30   \n",
       "33  North Carolina                  16.8               39                 31   \n",
       "34    North Dakota                  23.9               23                 42   \n",
       "35            Ohio                  14.1               28                 34   \n",
       "38    Pennsylvania                  18.2               50                 31   \n",
       "39    Rhode Island                  11.1               34                 38   \n",
       "40  South Carolina                  23.9               38                 41   \n",
       "41    South Dakota                  19.4               31                 33   \n",
       "43           Texas                  19.4               40                 38   \n",
       "47      Washington                  10.6               42                 33   \n",
       "49       Wisconsin                  13.8               36                 33   \n",
       "50         Wyoming                  17.4               42                 32   \n",
       "\n",
       "    perc_fatl_1st_time  cluster  million_miles_annually  num_drvr_fatl_col  \n",
       "0                   80        1                   64914          1220.3832  \n",
       "6                   82        1                   31197           336.9276  \n",
       "11                  87        1                   10066           176.1550  \n",
       "19                  84        1                   14248           215.1448  \n",
       "25                  84        1                   68789          1107.5029  \n",
       "26                  85        1                   11660           249.5240  \n",
       "29                  83        1                   12720           147.5520  \n",
       "33                  81        1                  103772          1743.3696  \n",
       "34                  86        1                    9131           218.2309  \n",
       "35                  82        1                  111990          1579.0590  \n",
       "38                  88        1                   99204          1805.5128  \n",
       "39                  79        1                    7901            87.7011  \n",
       "40                  81        1                   48730          1164.6470  \n",
       "41                  86        1                    9002           174.6388  \n",
       "43                  87        1                  237440          4606.3360  \n",
       "47                  86        1                   56955           603.7230  \n",
       "49                  84        1                   58554           808.0452  \n",
       "50                  90        1                    9245           160.8630  "
      ]
     },
     "execution_count": 17,
     "metadata": {},
     "output_type": "execute_result"
    }
   ],
   "source": [
    "# States in cluster 1:\n",
    "car_acc_miles[car_acc_miles['cluster']==1]"
   ]
  },
  {
   "cell_type": "code",
   "execution_count": null,
   "metadata": {},
   "outputs": [],
   "source": []
  }
 ],
 "metadata": {
  "kernelspec": {
   "display_name": "Python 3",
   "language": "python",
   "name": "python3"
  },
  "language_info": {
   "codemirror_mode": {
    "name": "ipython",
    "version": 3
   },
   "file_extension": ".py",
   "mimetype": "text/x-python",
   "name": "python",
   "nbconvert_exporter": "python",
   "pygments_lexer": "ipython3",
   "version": "3.7.0"
  },
  "notify_time": "30"
 },
 "nbformat": 4,
 "nbformat_minor": 2
}
